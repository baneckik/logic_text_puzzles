{
 "cells": [
  {
   "cell_type": "markdown",
   "metadata": {},
   "source": [
    "# Rysowanie do PDF"
   ]
  },
  {
   "cell_type": "code",
   "execution_count": 1,
   "metadata": {},
   "outputs": [],
   "source": [
    "import numpy as np\n",
    "import pandas as pd\n",
    "import random\n",
    "from reportlab.pdfgen import canvas\n",
    "\n",
    "import generating_cathegories_functions as funs\n",
    "from puzzle_class import puzzle\n",
    "from pdf_printing_functions import rysuj_zagadke"
   ]
  },
  {
   "cell_type": "markdown",
   "metadata": {},
   "source": [
    "### Wylosuj i wydrukuj zagadkę"
   ]
  },
  {
   "cell_type": "code",
   "execution_count": 18,
   "metadata": {},
   "outputs": [],
   "source": [
    "seed = random.randint(100,100000)\n",
    "\n",
    "puzzle1 = puzzle(4,5)\n",
    "puzzle1.set_seed(seed)\n",
    "puzzle1.draw_cathegories(3)\n",
    "\n",
    "for i in range(40):\n",
    "    puzzle1.add_clue1()\n",
    "    puzzle1.use_clue1(i)\n",
    "    puzzle1.grid_concile()\n",
    "    if puzzle1.is_grid_completed() or puzzle1.is_grid_contradictory():\n",
    "        break\n",
    "\n",
    "if puzzle1.is_grid_contradictory():\n",
    "    print(\"Wyszło sprzeczne!\")\n",
    "        \n",
    "c = canvas.Canvas(\"rotate.pdf\")\n",
    "rysuj_zagadke(puzzle1, c)\n",
    "c.showPage()\n",
    "c.save()"
   ]
  },
  {
   "cell_type": "code",
   "execution_count": 19,
   "metadata": {},
   "outputs": [
    {
     "data": {
      "text/plain": [
       "30"
      ]
     },
     "execution_count": 19,
     "metadata": {},
     "output_type": "execute_result"
    }
   ],
   "source": [
    "len(puzzle1.clues)"
   ]
  },
  {
   "cell_type": "code",
   "execution_count": 20,
   "metadata": {},
   "outputs": [
    {
     "name": "stdout",
     "output_type": "stream",
     "text": [
      "[5, 8, 1, 6, 12, 26, 3, 10]\n"
     ]
    }
   ],
   "source": [
    "puzzle1.try_to_restrict_clues()"
   ]
  },
  {
   "cell_type": "code",
   "execution_count": 21,
   "metadata": {
    "scrolled": true
   },
   "outputs": [
    {
     "data": {
      "text/plain": [
       "22"
      ]
     },
     "execution_count": 21,
     "metadata": {},
     "output_type": "execute_result"
    }
   ],
   "source": [
    "len(puzzle1.clues)"
   ]
  },
  {
   "cell_type": "code",
   "execution_count": 23,
   "metadata": {},
   "outputs": [
    {
     "ename": "TypeError",
     "evalue": "is_grid_completed() missing 1 required positional argument: 'self'",
     "output_type": "error",
     "traceback": [
      "\u001b[0;31m---------------------------------------------------------------------------\u001b[0m",
      "\u001b[0;31mTypeError\u001b[0m                                 Traceback (most recent call last)",
      "\u001b[0;32m<ipython-input-23-c26bdcf641d3>\u001b[0m in \u001b[0;36m<module>\u001b[0;34m\u001b[0m\n\u001b[0;32m----> 1\u001b[0;31m \u001b[0mpuzzle\u001b[0m\u001b[0;34m.\u001b[0m\u001b[0mis_grid_completed\u001b[0m\u001b[0;34m(\u001b[0m\u001b[0;34m)\u001b[0m\u001b[0;34m\u001b[0m\u001b[0;34m\u001b[0m\u001b[0m\n\u001b[0m",
      "\u001b[0;31mTypeError\u001b[0m: is_grid_completed() missing 1 required positional argument: 'self'"
     ]
    }
   ],
   "source": [
    "puzzle.is_grid_completed()"
   ]
  },
  {
   "cell_type": "code",
   "execution_count": 5,
   "metadata": {
    "scrolled": true
   },
   "outputs": [
    {
     "data": {
      "text/plain": [
       "False"
      ]
     },
     "execution_count": 5,
     "metadata": {},
     "output_type": "execute_result"
    }
   ],
   "source": [
    "funs.do_cathegories_repeat(kategorie)"
   ]
  },
  {
   "cell_type": "code",
   "execution_count": 7,
   "metadata": {},
   "outputs": [
    {
     "data": {
      "text/plain": [
       "True"
      ]
     },
     "execution_count": 7,
     "metadata": {},
     "output_type": "execute_result"
    }
   ],
   "source": [
    "puzzle1.is_grid_completed()"
   ]
  },
  {
   "cell_type": "code",
   "execution_count": 16,
   "metadata": {},
   "outputs": [
    {
     "data": {
      "text/plain": [
       "[('cathegorical', ['Feliks', 'Neptun', 'Peter', 'Jasper', 'Bentley']),\n",
       " ('numerical',\n",
       "  [4000.0, 8000.0, 12000.0, 20000.0, 24000.0],\n",
       "  {'x=y*2', 'x=y+12000.0', 'x=y+16000.0', 'x=y+4000.0', 'x=y+8000.0'},\n",
       "  '@ kg'),\n",
       " ('numerical',\n",
       "  [0.0, 0.0, 0.0, 0.0, 0.0],\n",
       "  {'x=y*0.0', 'x=y*2', 'x=y*4', 'x=y*8', 'x=y+0.0'},\n",
       "  'zysk/strata'),\n",
       " ('numerical',\n",
       "  [5.0, 6.0, 7.0, 8.0, 9.0],\n",
       "  {'x=y+1.0', 'x=y+2.0', 'x=y+3.0'},\n",
       "  '@ szklanki')]"
      ]
     },
     "execution_count": 16,
     "metadata": {},
     "output_type": "execute_result"
    }
   ],
   "source": [
    "kategorie"
   ]
  },
  {
   "cell_type": "code",
   "execution_count": 3,
   "metadata": {},
   "outputs": [
    {
     "name": "stdout",
     "output_type": "stream",
     "text": [
      "True False\n",
      "XXOXX OXXXX XOXXX \n",
      "XXXOX XXXXO XXXXO \n",
      "XOXXX XOXXX XXOXX \n",
      "XXXXO XXOXX OXXXX \n",
      "OXXXX XXXOX XXXOX \n",
      "\n",
      "XXXXO XXOXX \n",
      "XXOXX OXXXX \n",
      "XOXXX XOXXX \n",
      "OXXXX XXXOX \n",
      "XXXOX XXXXO \n",
      "\n",
      "XXOXX \n",
      "XOXXX \n",
      "XXXXO \n",
      "OXXXX \n",
      "XXXOX \n",
      "\n",
      "26\n"
     ]
    }
   ],
   "source": [
    "puzzle1 = puzzle(4,5)\n",
    "\n",
    "for i in range(40):\n",
    "    puzzle1.add_clue1()\n",
    "    puzzle1.use_clue1(i)\n",
    "    puzzle1.grid_concile()\n",
    "    \n",
    "    if puzzle1.is_grid_completed() or puzzle1.is_grid_contradictory():\n",
    "        print(puzzle1.is_grid_completed(), puzzle1.is_grid_contradictory())\n",
    "        break\n",
    "puzzle1.print_grid()\n",
    "print(len(puzzle1.clues))"
   ]
  },
  {
   "cell_type": "markdown",
   "metadata": {},
   "source": [
    "# Inne"
   ]
  },
  {
   "cell_type": "code",
   "execution_count": 67,
   "metadata": {},
   "outputs": [
    {
     "name": "stdout",
     "output_type": "stream",
     "text": [
      "Courier\n",
      "Courier-Bold\n",
      "Courier-BoldOblique\n",
      "Courier-Oblique\n",
      "Helvetica\n",
      "Helvetica-Bold\n",
      "Helvetica-BoldOblique\n",
      "Helvetica-Oblique\n",
      "Symbol\n",
      "Times-Bold\n",
      "Times-BoldItalic\n",
      "Times-Italic\n",
      "Times-Roman\n",
      "ZapfDingbats\n",
      "sans-serif\n"
     ]
    }
   ],
   "source": [
    "def fonts(canvas):\n",
    "    from reportlab.lib.units import inch\n",
    "    for font in canvas.getAvailableFonts():\n",
    "        print(font)\n",
    "fonts(c)"
   ]
  },
  {
   "cell_type": "code",
   "execution_count": null,
   "metadata": {},
   "outputs": [],
   "source": []
  },
  {
   "cell_type": "code",
   "execution_count": null,
   "metadata": {},
   "outputs": [],
   "source": []
  },
  {
   "cell_type": "code",
   "execution_count": null,
   "metadata": {},
   "outputs": [],
   "source": []
  },
  {
   "cell_type": "code",
   "execution_count": null,
   "metadata": {},
   "outputs": [],
   "source": []
  },
  {
   "cell_type": "code",
   "execution_count": null,
   "metadata": {},
   "outputs": [],
   "source": []
  }
 ],
 "metadata": {
  "kernelspec": {
   "display_name": "Python 3",
   "language": "python",
   "name": "python3"
  },
  "language_info": {
   "codemirror_mode": {
    "name": "ipython",
    "version": 3
   },
   "file_extension": ".py",
   "mimetype": "text/x-python",
   "name": "python",
   "nbconvert_exporter": "python",
   "pygments_lexer": "ipython3",
   "version": "3.7.3"
  }
 },
 "nbformat": 4,
 "nbformat_minor": 2
}
