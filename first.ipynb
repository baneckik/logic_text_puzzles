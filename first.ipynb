{
 "cells": [
  {
   "cell_type": "code",
   "execution_count": 1,
   "metadata": {},
   "outputs": [],
   "source": [
    "import numpy as np\n",
    "import pandas as pd\n",
    "from pathlib import Path\n",
    "import os\n",
    "from reportlab.pdfgen import canvas\n",
    "import random\n",
    "\n",
    "from reportlab.pdfbase import pdfmetrics\n",
    "from reportlab.pdfbase.ttfonts import TTFont\n",
    "pdfmetrics.registerFont(TTFont('sans-serif', 'FreeSans.ttf'))\n",
    "\n",
    "import generating_cathegories_functions as funs\n",
    "from puzzle_class import puzzle"
   ]
  },
  {
   "cell_type": "markdown",
   "metadata": {},
   "source": [
    "# Rysowanie do PDF"
   ]
  },
  {
   "cell_type": "code",
   "execution_count": 43,
   "metadata": {},
   "outputs": [],
   "source": [
    "def rysuj_zagadke(kategorie, clues, c, X = 30, Y = 30, box_size = 100, text_box_size = 150):\n",
    "    \n",
    "    K_cat = (len(kategorie)) # liczba kategorii\n",
    "    k_cat = len(kategorie[0][1]) # liczba obiektów z każdej kategorii\n",
    "    N_rows = K_cat-1\n",
    "    width = box_size/k_cat\n",
    "\n",
    "    cm = 20\n",
    "\n",
    "    c.setLineWidth(2)\n",
    "    for row in range(N_rows):\n",
    "        c.rect( X, Y+row*box_size, text_box_size+(row+1)*box_size, box_size)\n",
    "        c.rect( X+text_box_size+row*box_size, Y+row*box_size, box_size, text_box_size+(N_rows-row)*box_size)\n",
    "    c.setLineWidth(1)\n",
    "    for row in range(N_rows):\n",
    "        for k in range(k_cat):\n",
    "            c.rect( X, Y+row*box_size, text_box_size+(row+1)*box_size, k*box_size/k_cat)\n",
    "            c.rect( X+text_box_size+row*box_size, Y+row*box_size, k*box_size/k_cat, text_box_size+(N_rows-row)*box_size)\n",
    "    \n",
    "    Xc = 30\n",
    "    Yc = 830\n",
    "    odstep = 0.15\n",
    "    c.setFont(\"sans-serif\", width*0.5)\n",
    "    for i, clue in enumerate(clues):\n",
    "        if \"i3\" not in clue:\n",
    "            wskaz = str(kategorie[clue[\"K1\"]][1][clue[\"i1\"]])+\" nie pasuje do \"+str(kategorie[clue[\"K2\"]][1][clue[\"i2\"]])\n",
    "        elif \"i4\" not in clue:\n",
    "            wskaz = str(kategorie[clue[\"K1\"]][1][clue[\"i1\"]])+\" nie pasuje ani do \"+str(kategorie[clue[\"K2\"]][1][clue[\"i2\"]])+\" ani do \"+str(kategorie[clue[\"K2\"]][1][clue[\"i3\"]])\n",
    "        else:\n",
    "            wskaz = str(kategorie[clue[\"K1\"]][1][clue[\"i1\"]])+\" nie pasuje ani do \"+str(kategorie[clue[\"K2\"]][1][clue[\"i2\"]])+\" ani do \"+str(kategorie[clue[\"K2\"]][1][clue[\"i3\"]])+\" ani do \"+str(kategorie[clue[\"K2\"]][1][clue[\"i4\"]])\n",
    "            \n",
    "        c.drawString(Xc+odstep*width, Yc-width*i*0.5, str(i+1)+\". \"+wskaz)\n",
    "    \n",
    "    for i, kategoria in enumerate(kategorie):\n",
    "        nazwy = [ str(k) for k in kategoria[1] ]\n",
    "        if kategoria[0]=='numerical':\n",
    "            nazwy = [ k[:-2] if k.endswith(\".0\") else k for k in nazwy ]\n",
    "            if \"@\" in kategoria[3]:\n",
    "                a = kategoria[3].split(\"@\")\n",
    "                nazwy = [ k.join(a) for k in nazwy ]\n",
    "        \n",
    "        miejsce = i+1\n",
    "        odstep = 0.15\n",
    "        for i, name in enumerate(nazwy):\n",
    "            if len(name) > 7+(k_cat-3)*3:\n",
    "                c.setFont(\"sans-serif\", width*(7+(k_cat-3)*3)/len(name))\n",
    "            else:\n",
    "                c.setFont(\"sans-serif\", width)\n",
    "            # rysowanie poziome:\n",
    "            if miejsce==1:\n",
    "                c.drawString(X+odstep*width, Y+(K_cat-1)*box_size-(i+1)*width+odstep*width, name)\n",
    "            elif miejsce!=2:\n",
    "                c.drawString(X+odstep*width, Y+(miejsce-2)*box_size-(i+1)*width+odstep*width, name)\n",
    "            c.saveState()\n",
    "            # rysowanie pionowe:\n",
    "            c.rotate( 90 )\n",
    "            if miejsce==2:\n",
    "                c.drawString(Y+(K_cat-1)*box_size+odstep*width, -X-text_box_size-(i+1)*width+odstep*width, name)\n",
    "            elif miejsce!=1:\n",
    "                c.drawString(Y+(K_cat-1)*box_size+odstep*width, -X-text_box_size-(miejsce-2)*box_size-(i+1)*width+odstep*width, name)\n",
    "\n",
    "            c.restoreState()\n",
    "\n"
   ]
  },
  {
   "cell_type": "code",
   "execution_count": 45,
   "metadata": {},
   "outputs": [],
   "source": [
    "kategorie = funs.losuj_kategorie(4, 5, 3, random.randint(100,100000))\n",
    "\n",
    "puzzle1 = puzzle(4,5)\n",
    "for i in range(40):\n",
    "    puzzle1.add_clue1()\n",
    "    puzzle1.use_clue1(i)\n",
    "    puzzle1.grid_concile()\n",
    "    if puzzle1.is_grid_completed() or puzzle1.is_grid_contradictory():\n",
    "        break\n",
    "\n",
    "if puzzle1.is_grid_contradictory():\n",
    "    print(\"Wyszło sprzeczne!\")\n",
    "        \n",
    "c = canvas.Canvas(\"rotate.pdf\")\n",
    "rysuj_zagadke(kategorie, puzzle1.clues, c)\n",
    "c.showPage()\n",
    "c.save()"
   ]
  },
  {
   "cell_type": "code",
   "execution_count": 5,
   "metadata": {},
   "outputs": [
    {
     "data": {
      "text/plain": [
       "[('cathegorical', ['tarcza', 'włócznia', 'przyłbica', 'topór', 'napierśnik']),\n",
       " ('cathegorical',\n",
       "  ['Jankowski', 'Grabowski', 'Kwiatkowski', 'Wiśniewski', 'Mazur']),\n",
       " ('numerical',\n",
       "  [2.5, 5.0, 10.0, 12.5, 15.0],\n",
       "  {'x=y*2', 'x=y+10.0', 'x=y+2.5', 'x=y+5.0', 'x=y+7.5'},\n",
       "  'zysk/strata'),\n",
       " ('numerical',\n",
       "  [3000.0, 3100.0, 3200.0, 3300.0, 3400.0],\n",
       "  {'x=y+100', 'x=y+200', 'x=y+300'},\n",
       "  '@ rok/lata')]"
      ]
     },
     "execution_count": 5,
     "metadata": {},
     "output_type": "execute_result"
    }
   ],
   "source": [
    "kategorie"
   ]
  },
  {
   "cell_type": "code",
   "execution_count": 3,
   "metadata": {},
   "outputs": [
    {
     "name": "stdout",
     "output_type": "stream",
     "text": [
      "True False\n",
      "XXOXX OXXXX XOXXX \n",
      "XXXOX XXXXO XXXXO \n",
      "XOXXX XOXXX XXOXX \n",
      "XXXXO XXOXX OXXXX \n",
      "OXXXX XXXOX XXXOX \n",
      "\n",
      "XXXXO XXOXX \n",
      "XXOXX OXXXX \n",
      "XOXXX XOXXX \n",
      "OXXXX XXXOX \n",
      "XXXOX XXXXO \n",
      "\n",
      "XXOXX \n",
      "XOXXX \n",
      "XXXXO \n",
      "OXXXX \n",
      "XXXOX \n",
      "\n",
      "26\n"
     ]
    }
   ],
   "source": [
    "puzzle1 = puzzle(4,5)\n",
    "\n",
    "for i in range(40):\n",
    "    puzzle1.add_clue1()\n",
    "    puzzle1.use_clue1(i)\n",
    "    puzzle1.grid_concile()\n",
    "    \n",
    "    if puzzle1.is_grid_completed() or puzzle1.is_grid_contradictory():\n",
    "        print(puzzle1.is_grid_completed(), puzzle1.is_grid_contradictory())\n",
    "        break\n",
    "puzzle1.print_grid()\n",
    "print(len(puzzle1.clues))"
   ]
  },
  {
   "cell_type": "markdown",
   "metadata": {},
   "source": [
    "# Inne"
   ]
  },
  {
   "cell_type": "code",
   "execution_count": 67,
   "metadata": {},
   "outputs": [
    {
     "name": "stdout",
     "output_type": "stream",
     "text": [
      "Courier\n",
      "Courier-Bold\n",
      "Courier-BoldOblique\n",
      "Courier-Oblique\n",
      "Helvetica\n",
      "Helvetica-Bold\n",
      "Helvetica-BoldOblique\n",
      "Helvetica-Oblique\n",
      "Symbol\n",
      "Times-Bold\n",
      "Times-BoldItalic\n",
      "Times-Italic\n",
      "Times-Roman\n",
      "ZapfDingbats\n",
      "sans-serif\n"
     ]
    }
   ],
   "source": [
    "def fonts(canvas):\n",
    "    from reportlab.lib.units import inch\n",
    "    for font in canvas.getAvailableFonts():\n",
    "        print(font)\n",
    "fonts(c)"
   ]
  },
  {
   "cell_type": "markdown",
   "metadata": {},
   "source": [
    "# Losowanie wszystkiego"
   ]
  },
  {
   "cell_type": "code",
   "execution_count": 9,
   "metadata": {},
   "outputs": [
    {
     "data": {
      "text/plain": [
       "[3, 2, 4, 2]"
      ]
     },
     "execution_count": 9,
     "metadata": {},
     "output_type": "execute_result"
    }
   ],
   "source": [
    "list(np.random.choice([1,2,3,4], 4, replace=True)) "
   ]
  },
  {
   "cell_type": "code",
   "execution_count": 16,
   "metadata": {
    "scrolled": false
   },
   "outputs": [
    {
     "name": "stdout",
     "output_type": "stream",
     "text": [
      "['special_names' 'items' 'names']\n",
      "special_names\n",
      "1 items\n",
      "special_names\n",
      "1 names\n",
      "special_names\n",
      "1 special_names\n"
     ]
    },
    {
     "data": {
      "text/plain": [
       "[('cathegorical', ['metanol', 'metan', 'kwa mrówkowy', 'gliceryna', 'cukier']),\n",
       " ('cathegorical', ['Zosia', 'Janek', 'Ryś', 'Kubuś', 'Tomek']),\n",
       " ('cathegorical',\n",
       "  ['łamigłówki', 'obrazki logiczne', 'architekty', 'wielokropki', 'sudoku']),\n",
       " ('numerical',\n",
       "  [1000.0, 2000.0, 3000.0, 4000.0, 5000.0],\n",
       "  {'x=y*2', 'x=y+1000', 'x=y+2000', 'x=y+3000'},\n",
       "  '@ rok/lata'),\n",
       " ('numerical',\n",
       "  [4.0, 8.0, 12.0, 20.0, 28.0],\n",
       "  {'x=y+16.0', 'x=y+4.0', 'x=y+8.0'},\n",
       "  'zysk/strata')]"
      ]
     },
     "execution_count": 16,
     "metadata": {},
     "output_type": "execute_result"
    }
   ],
   "source": [
    "funs.losuj_kategorie(5, 5, 3, np.random.randint(1002))"
   ]
  },
  {
   "cell_type": "markdown",
   "metadata": {},
   "source": [
    "# Klasa wskazowka"
   ]
  },
  {
   "cell_type": "code",
   "execution_count": 23,
   "metadata": {},
   "outputs": [],
   "source": [
    "class wskazowka:\n",
    "    \"\"\"\n",
    "    Klasa pomocniczna do zagadki.\n",
    "    \"\"\"\n",
    "    __slots__ = [\"typ\", \"podtyp\", \"text\"]\n",
    "    def __init__(self, typ, podtyp, seed):\n",
    "        self.typ = typ\n",
    "        self.podtyp = podtyp\n",
    "        self.text = \"\"\n",
    "    def __repr__(self):\n",
    "        return \"Typ: \"+str(self.typ)+\"/\"+str(self.podtyp)+\"\\nWskazówka: \"+self.text"
   ]
  },
  {
   "cell_type": "code",
   "execution_count": 24,
   "metadata": {},
   "outputs": [],
   "source": [
    "w1 = wskazowka(1, 1, 0)"
   ]
  },
  {
   "cell_type": "code",
   "execution_count": 25,
   "metadata": {},
   "outputs": [
    {
     "name": "stdout",
     "output_type": "stream",
     "text": [
      "Typ: 1/1\n",
      "Wskazówka: \n"
     ]
    }
   ],
   "source": [
    "print(w1)"
   ]
  },
  {
   "cell_type": "code",
   "execution_count": 26,
   "metadata": {},
   "outputs": [
    {
     "data": {
      "text/plain": [
       "''"
      ]
     },
     "execution_count": 26,
     "metadata": {},
     "output_type": "execute_result"
    }
   ],
   "source": [
    "w1.text"
   ]
  },
  {
   "cell_type": "code",
   "execution_count": 27,
   "metadata": {},
   "outputs": [
    {
     "data": {
      "text/plain": [
       "['typ', 'podtyp', 'text']"
      ]
     },
     "execution_count": 27,
     "metadata": {},
     "output_type": "execute_result"
    }
   ],
   "source": [
    "w1.__slots__"
   ]
  },
  {
   "cell_type": "code",
   "execution_count": 45,
   "metadata": {},
   "outputs": [],
   "source": [
    "class zagadka:\n",
    "    \"\"\"\n",
    "    Główna klasa konkretnej zagadki zawierającej K-kategorii po k-obiektów w każdej.\n",
    "    Klasa zawiera listę wskazówek(clues), opis kategorii(cathegories) \n",
    "    oraz planszę do rozwiazywania(boxes).\n",
    "    \"\"\"\n",
    "    __slots__ = [\"K\", \"k\", \"status\", \"diff\", \"diff_expected\", \"clues\", \"cathegories\", \"boxes\"]\n",
    "    \n",
    "    def __init__(self, K, k, diff_expected):\n",
    "        self.K = K\n",
    "        self.k = k\n",
    "        self.status = \"untouched\"\n",
    "        self.diff = \"unknown\"\n",
    "        self.diff_expected = diff_expected\n",
    "        self.clues = []\n",
    "        self.cathegories = []\n",
    "        self.boxes = []\n",
    "        for i in range(K-1):\n",
    "            self.boxes.append([])\n",
    "            for j in range(i,K-1):\n",
    "                self.boxes[i].append(np.zeros((k,k)))\n",
    "    \n",
    "    def __repr__(self):\n",
    "        return \", \".join(self.clues)"
   ]
  },
  {
   "cell_type": "code",
   "execution_count": 46,
   "metadata": {},
   "outputs": [
    {
     "name": "stdout",
     "output_type": "stream",
     "text": [
      "\n"
     ]
    }
   ],
   "source": [
    "z = zagadka(5, 4, 2)\n",
    "print(z)"
   ]
  },
  {
   "cell_type": "code",
   "execution_count": 49,
   "metadata": {},
   "outputs": [
    {
     "ename": "IndexError",
     "evalue": "list index out of range",
     "output_type": "error",
     "traceback": [
      "\u001b[0;31m---------------------------------------------------------------------------\u001b[0m",
      "\u001b[0;31mIndexError\u001b[0m                                Traceback (most recent call last)",
      "\u001b[0;32m<ipython-input-49-b7342256dc81>\u001b[0m in \u001b[0;36m<module>\u001b[0;34m\u001b[0m\n\u001b[0;32m----> 1\u001b[0;31m \u001b[0mz\u001b[0m\u001b[0;34m.\u001b[0m\u001b[0mboxes\u001b[0m\u001b[0;34m[\u001b[0m\u001b[0;36m0\u001b[0m\u001b[0;34m]\u001b[0m\u001b[0;34m[\u001b[0m\u001b[0;36m4\u001b[0m\u001b[0;34m]\u001b[0m\u001b[0;34m\u001b[0m\u001b[0;34m\u001b[0m\u001b[0m\n\u001b[0m",
      "\u001b[0;31mIndexError\u001b[0m: list index out of range"
     ]
    }
   ],
   "source": [
    "z.boxes[0][4]"
   ]
  },
  {
   "cell_type": "code",
   "execution_count": 36,
   "metadata": {},
   "outputs": [],
   "source": [
    "K = 5\n",
    "k = 5\n",
    "kat = funs.losuj_kategorie(K, k, 3, np.random.randint(1002))\n",
    "box = np.zeros((k,k))\n"
   ]
  },
  {
   "cell_type": "code",
   "execution_count": 37,
   "metadata": {},
   "outputs": [
    {
     "data": {
      "text/plain": [
       "array([[0., 0., 0., 0., 0.],\n",
       "       [0., 0., 0., 0., 0.],\n",
       "       [0., 0., 0., 0., 0.],\n",
       "       [0., 0., 0., 0., 0.],\n",
       "       [0., 0., 0., 0., 0.]])"
      ]
     },
     "execution_count": 37,
     "metadata": {},
     "output_type": "execute_result"
    }
   ],
   "source": [
    "box"
   ]
  }
 ],
 "metadata": {
  "kernelspec": {
   "display_name": "Python 3",
   "language": "python",
   "name": "python3"
  },
  "language_info": {
   "codemirror_mode": {
    "name": "ipython",
    "version": 3
   },
   "file_extension": ".py",
   "mimetype": "text/x-python",
   "name": "python",
   "nbconvert_exporter": "python",
   "pygments_lexer": "ipython3",
   "version": "3.7.3"
  }
 },
 "nbformat": 4,
 "nbformat_minor": 2
}
