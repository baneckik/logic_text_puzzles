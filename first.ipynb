{
 "cells": [
  {
   "cell_type": "markdown",
   "metadata": {},
   "source": [
    "# Rysowanie do PDF"
   ]
  },
  {
   "cell_type": "code",
   "execution_count": 1,
   "metadata": {},
   "outputs": [],
   "source": [
    "import numpy as np\n",
    "import pandas as pd\n",
    "import random\n",
    "from reportlab.pdfgen import canvas\n",
    "\n",
    "import generating_cathegories_functions as funs\n",
    "from puzzle_class import puzzle\n",
    "from pdf_printing_functions import rysuj_zagadke"
   ]
  },
  {
   "cell_type": "markdown",
   "metadata": {},
   "source": [
    "### Wylosuj i wydrukuj zagadkę"
   ]
  },
  {
   "cell_type": "code",
   "execution_count": 76,
   "metadata": {},
   "outputs": [
    {
     "name": "stdout",
     "output_type": "stream",
     "text": [
      "[17, 27, 21, 10, 30, 5, 11, 12, 9, 13]\n"
     ]
    }
   ],
   "source": [
    "seed = random.randint(100,100000)\n",
    "\n",
    "puzzle1 = puzzle(4,5)\n",
    "puzzle1.set_seed(seed)\n",
    "puzzle1.draw_cathegories(3)\n",
    "\n",
    "for i in range(100):\n",
    "    puzzle1.add_clue1()\n",
    "    puzzle1.use_clue1(i)\n",
    "    puzzle1.grid_concile()\n",
    "    if puzzle1.is_grid_completed() or puzzle1.is_grid_contradictory():\n",
    "        break\n",
    "\n",
    "puzzle1.try_to_restrict_clues()      \n",
    "puzzle1.try_to_solve()        \n",
    "if puzzle1.is_grid_contradictory():\n",
    "    print(\"Wyszło sprzeczne!\")\n",
    "        \n",
    "c = canvas.Canvas(\"rotate.pdf\")\n",
    "rysuj_zagadke(puzzle1, c)\n",
    "c.showPage()\n",
    "c.save()"
   ]
  },
  {
   "cell_type": "code",
   "execution_count": 19,
   "metadata": {
    "scrolled": false
   },
   "outputs": [
    {
     "name": "stdout",
     "output_type": "stream",
     "text": [
      "True False\n",
      "9\n",
      "9\n"
     ]
    }
   ],
   "source": [
    "seed = random.randint(100,100000)\n",
    "puzzle1 = puzzle(4,5)\n",
    "puzzle1.set_seed(seed)\n",
    "puzzle1.draw_cathegories(diff=3)\n",
    "puzzle1.draw_clues()\n",
    "\n",
    "print(puzzle1.is_grid_completed(), puzzle1.is_grid_contradictory())\n",
    "print(len(puzzle1.clues))\n",
    "#puzzle1.try_to_restrict_clues()      \n",
    "print(len(puzzle1.clues))\n",
    "puzzle1.try_to_solve()        \n",
    "if puzzle1.is_grid_contradictory():\n",
    "    print(\"Wyszło sprzeczne!\")\n",
    "else:\n",
    "    c = canvas.Canvas(\"p\"+str(puzzle1.seed)+\"K\"+str(puzzle1.K)+\"k\"+str(puzzle1.k)+\".pdf\")\n",
    "    rysuj_zagadke(puzzle1, c)\n",
    "    c.showPage()\n",
    "    c.save()"
   ]
  },
  {
   "cell_type": "code",
   "execution_count": 21,
   "metadata": {},
   "outputs": [
    {
     "data": {
      "text/plain": [
       "[{'typ': 2, 'K1': 2, 'i1': 3, 'K2': 0, 'i2': 2, 'K3': 2, 'i3': 0, 'K6': 3},\n",
       " {'typ': 2, 'K1': 0, 'i1': 1, 'K2': 3, 'i2': 0, 'K3': 1, 'i3': 2, 'K6': 2},\n",
       " {'typ': 2, 'K1': 0, 'i1': 1, 'K2': 1, 'i2': 0, 'K3': 1, 'i3': 2, 'K6': 3},\n",
       " {'typ': 2, 'K1': 1, 'i1': 1, 'K2': 2, 'i2': 1, 'K3': 0, 'i3': 2, 'K6': 3},\n",
       " {'typ': 1, 'K1': 0, 'i1': 2, 'K2': 1, 'i2': 2},\n",
       " {'typ': 1, 'K1': 1, 'i1': 0, 'K2': 2, 'i2': 4},\n",
       " {'typ': 1, 'K1': 0, 'i1': 4, 'K2': 2, 'i2': 0},\n",
       " {'typ': 1, 'K1': 1, 'i1': 3, 'K2': 2, 'i2': 0},\n",
       " {'typ': 1, 'K1': 1, 'i1': 0, 'K2': 3, 'i2': 3},\n",
       " {'typ': 1, 'K1': 0, 'i1': 3, 'K2': 3, 'i2': 3},\n",
       " {'typ': 1, 'K1': 1, 'i1': 4, 'K2': 3, 'i2': 2},\n",
       " {'typ': 1, 'K1': 1, 'i1': 4, 'K2': 2, 'i2': 1},\n",
       " {'typ': 1, 'K1': 0, 'i1': 4, 'K2': 3, 'i2': 1},\n",
       " {'typ': 1, 'K1': 3, 'i1': 0, 'K2': 0, 'i2': 3, 'i3': 0}]"
      ]
     },
     "execution_count": 21,
     "metadata": {},
     "output_type": "execute_result"
    }
   ],
   "source": [
    "puzzle1.clues"
   ]
  },
  {
   "cell_type": "code",
   "execution_count": 20,
   "metadata": {},
   "outputs": [
    {
     "name": "stdout",
     "output_type": "stream",
     "text": [
      "XXXOX XOXXX XXXOX \n",
      "XXXXX XXXXX XXXXX \n",
      "XXXXX XXXXX XXXXX \n",
      "XOXXX XXXXO XXXXO \n",
      "OXXXX XXOXX XXOXX \n",
      "\n",
      "XXXXX XXXXX \n",
      "XXXXX XXXXX \n",
      "OXXXX XXOXX \n",
      "XXXOX XOXXX \n",
      "XOXXX XXXXO \n",
      "\n",
      "XXXXX \n",
      "XXXOX \n",
      "OXXXX \n",
      "XXXXX \n",
      "XOXXX \n",
      "\n"
     ]
    }
   ],
   "source": [
    "puzzle1.print_grid()"
   ]
  },
  {
   "cell_type": "code",
   "execution_count": 2,
   "metadata": {},
   "outputs": [],
   "source": [
    "seed = random.randint(100,100000)\n",
    "puzzle1 = puzzle(4,5)\n",
    "puzzle1.set_seed(seed)\n",
    "puzzle1.draw_cathegories(diff=3)"
   ]
  },
  {
   "cell_type": "code",
   "execution_count": 3,
   "metadata": {},
   "outputs": [
    {
     "data": {
      "text/plain": [
       "[]"
      ]
     },
     "execution_count": 3,
     "metadata": {},
     "output_type": "execute_result"
    }
   ],
   "source": [
    "puzzle1.clues"
   ]
  },
  {
   "cell_type": "code",
   "execution_count": 4,
   "metadata": {
    "scrolled": false
   },
   "outputs": [
    {
     "name": "stdout",
     "output_type": "stream",
     "text": [
      "----- ----- ----- \n",
      "----- ----- ----- \n",
      "----- ---XX ----- \n",
      "----- ----- ----- \n",
      "----- XX--- ----- \n",
      "\n",
      "----- X---X \n",
      "----- ----- \n",
      "----- ----- \n",
      "----- ----- \n",
      "----- ----- \n",
      "\n",
      "----- \n",
      "----- \n",
      "----- \n",
      "----- \n",
      "----- \n",
      "\n",
      "0 1 2\n",
      "X---X ----- ----- \n",
      "----- ----- ----- \n",
      "----- ---XX ----- \n",
      "----- ----- ----- \n",
      "XX--- XX--- ----- \n",
      "\n",
      "----- X---X \n",
      "----- ----- \n",
      "----- ----- \n",
      "----- ----- \n",
      "----- ----- \n",
      "\n",
      "----- \n",
      "---XX \n",
      "----- \n",
      "----- \n",
      "----- \n",
      "\n",
      "0 1 2\n",
      "0 1 2\n",
      "X---X --XXX ----- \n",
      "----- --X-- ----- \n",
      "----- XXOXX ----- \n",
      "----- --X-- ----- \n",
      "XX--- XXX-- ----- \n",
      "\n",
      "----- X---X \n",
      "----- ----- \n",
      "----- ----- \n",
      "----- ----- \n",
      "----- ----- \n",
      "\n",
      "X---- \n",
      "---XX \n",
      "----- \n",
      "----- \n",
      "X---- \n",
      "\n",
      "2 3 4\n",
      "0 1 2\n",
      "0 1 2\n",
      "XOXXX OXXXX X---- \n",
      "-X-X- XXX-- ----- \n",
      "-XXX- XXOXX ----- \n",
      "-X-X- XXX-- ----- \n",
      "XXXXX XXXXX XXXXX \n",
      "\n",
      "-XXX- XX--X \n",
      "---X- -X--- \n",
      "---X- -X--- \n",
      "---X- -X--- \n",
      "---X- -X--- \n",
      "\n",
      "XOXXX \n",
      "XXXXX \n",
      "-XXX- \n",
      "-XXX- \n",
      "XXOXX \n",
      "\n"
     ]
    }
   ],
   "source": [
    "puzzle1.draw_clues()"
   ]
  },
  {
   "cell_type": "code",
   "execution_count": 5,
   "metadata": {},
   "outputs": [
    {
     "data": {
      "text/plain": [
       "True"
      ]
     },
     "execution_count": 5,
     "metadata": {},
     "output_type": "execute_result"
    }
   ],
   "source": [
    "puzzle1.is_grid_completed()"
   ]
  },
  {
   "cell_type": "code",
   "execution_count": 6,
   "metadata": {},
   "outputs": [
    {
     "data": {
      "text/plain": [
       "True"
      ]
     },
     "execution_count": 6,
     "metadata": {},
     "output_type": "execute_result"
    }
   ],
   "source": [
    "puzzle1.is_grid_contradictory()"
   ]
  },
  {
   "cell_type": "code",
   "execution_count": 6,
   "metadata": {},
   "outputs": [],
   "source": [
    "i = None\n",
    "if i!=None:\n",
    "    print(\"ege\")"
   ]
  },
  {
   "cell_type": "code",
   "execution_count": 6,
   "metadata": {},
   "outputs": [
    {
     "data": {
      "text/plain": [
       "[{'typ': 2, 'K1': 1, 'i1': 4, 'K2': 1, 'i2': 2, 'K3': 0, 'i3': 0, 'K6': 2},\n",
       " {'typ': 2, 'K1': 0, 'i1': 4, 'K2': 0, 'i2': 2, 'K3': 1, 'i3': 0, 'K6': 3},\n",
       " {'typ': 2, 'K1': 1, 'i1': 0, 'K2': 1, 'i2': 0, 'K3': 3, 'i3': 1, 'K6': 2},\n",
       " {'typ': 1, 'K1': 2, 'i1': 0, 'K2': 3, 'i2': 0},\n",
       " {'typ': 1, 'K1': 0, 'i1': 4, 'K2': 3, 'i2': 3},\n",
       " {'typ': 1, 'K1': 0, 'i1': 1, 'K2': 1, 'i2': 3},\n",
       " {'typ': 1, 'K1': 0, 'i1': 4, 'K2': 1, 'i2': 1},\n",
       " {'typ': 1, 'K1': 1, 'i1': 1, 'K2': 2, 'i2': 0},\n",
       " {'typ': 1, 'K1': 2, 'i1': 3, 'K2': 1, 'i2': 0, 'i3': 2},\n",
       " {'typ': 1, 'K1': 0, 'i1': 0, 'K2': 2, 'i2': 0},\n",
       " {'typ': 1, 'K1': 1, 'i1': 4, 'K2': 0, 'i2': 3, 'i3': 2},\n",
       " {'typ': 1, 'K1': 2, 'i1': 4, 'K2': 3, 'i2': 2},\n",
       " {'typ': 1, 'K1': 0, 'i1': 0, 'K2': 3, 'i2': 0},\n",
       " {'typ': 1, 'K1': 0, 'i1': 3, 'K2': 1, 'i2': 1}]"
      ]
     },
     "execution_count": 6,
     "metadata": {},
     "output_type": "execute_result"
    }
   ],
   "source": [
    "puzzle1.clues"
   ]
  },
  {
   "cell_type": "code",
   "execution_count": 77,
   "metadata": {},
   "outputs": [
    {
     "data": {
      "text/plain": [
       "[('cathegorical', ['Ola', 'Marysia', 'Zuzia', 'Ryś', 'Zosia']),\n",
       " ('ordinal', ['milimetr', 'centymetr', 'decymetr', 'metr', 'kilometr']),\n",
       " ('numerical',\n",
       "  [10.0, 12.5, 15.0, 17.5, 20.0],\n",
       "  {'x=y+2.5', 'x=y+5.0', 'x=y+7.5'},\n",
       "  '@ m'),\n",
       " ('numerical',\n",
       "  [3900.0, 4000.0, 4100.0, 4200.0, 4300.0],\n",
       "  {'x=y+100', 'x=y+200', 'x=y+300'},\n",
       "  '@ rok/lata')]"
      ]
     },
     "execution_count": 77,
     "metadata": {},
     "output_type": "execute_result"
    }
   ],
   "source": [
    "puzzle1.cathegories"
   ]
  },
  {
   "cell_type": "code",
   "execution_count": 4,
   "metadata": {},
   "outputs": [
    {
     "ename": "TypeError",
     "evalue": "any() takes exactly one argument (2 given)",
     "output_type": "error",
     "traceback": [
      "\u001b[0;31m---------------------------------------------------------------------------\u001b[0m",
      "\u001b[0;31mTypeError\u001b[0m                                 Traceback (most recent call last)",
      "\u001b[0;32m<ipython-input-4-5d0b83eab95e>\u001b[0m in \u001b[0;36m<module>\u001b[0;34m\u001b[0m\n\u001b[0;32m----> 1\u001b[0;31m \u001b[0many\u001b[0m\u001b[0;34m(\u001b[0m\u001b[0;34m[\u001b[0m\u001b[0;36m1\u001b[0m\u001b[0;34m,\u001b[0m\u001b[0;36m2\u001b[0m\u001b[0;34m,\u001b[0m\u001b[0;36m3\u001b[0m\u001b[0;34m,\u001b[0m\u001b[0;36m4\u001b[0m\u001b[0;34m]\u001b[0m\u001b[0;34m,\u001b[0m \u001b[0;32mlambda\u001b[0m \u001b[0mx\u001b[0m\u001b[0;34m:\u001b[0m \u001b[0mx\u001b[0m\u001b[0;34m>\u001b[0m\u001b[0;36m2\u001b[0m\u001b[0;34m)\u001b[0m\u001b[0;34m\u001b[0m\u001b[0;34m\u001b[0m\u001b[0m\n\u001b[0m",
      "\u001b[0;31mTypeError\u001b[0m: any() takes exactly one argument (2 given)"
     ]
    }
   ],
   "source": [
    "any([1,2,3,4], lambda x: x>2)"
   ]
  },
  {
   "cell_type": "code",
   "execution_count": 5,
   "metadata": {
    "scrolled": true
   },
   "outputs": [
    {
     "data": {
      "text/plain": [
       "False"
      ]
     },
     "execution_count": 5,
     "metadata": {},
     "output_type": "execute_result"
    }
   ],
   "source": [
    "funs.do_cathegories_repeat(kategorie)"
   ]
  },
  {
   "cell_type": "code",
   "execution_count": 7,
   "metadata": {},
   "outputs": [
    {
     "data": {
      "text/plain": [
       "True"
      ]
     },
     "execution_count": 7,
     "metadata": {},
     "output_type": "execute_result"
    }
   ],
   "source": [
    "puzzle1.is_grid_completed()"
   ]
  },
  {
   "cell_type": "code",
   "execution_count": 16,
   "metadata": {},
   "outputs": [
    {
     "data": {
      "text/plain": [
       "[('cathegorical', ['Feliks', 'Neptun', 'Peter', 'Jasper', 'Bentley']),\n",
       " ('numerical',\n",
       "  [4000.0, 8000.0, 12000.0, 20000.0, 24000.0],\n",
       "  {'x=y*2', 'x=y+12000.0', 'x=y+16000.0', 'x=y+4000.0', 'x=y+8000.0'},\n",
       "  '@ kg'),\n",
       " ('numerical',\n",
       "  [0.0, 0.0, 0.0, 0.0, 0.0],\n",
       "  {'x=y*0.0', 'x=y*2', 'x=y*4', 'x=y*8', 'x=y+0.0'},\n",
       "  'zysk/strata'),\n",
       " ('numerical',\n",
       "  [5.0, 6.0, 7.0, 8.0, 9.0],\n",
       "  {'x=y+1.0', 'x=y+2.0', 'x=y+3.0'},\n",
       "  '@ szklanki')]"
      ]
     },
     "execution_count": 16,
     "metadata": {},
     "output_type": "execute_result"
    }
   ],
   "source": [
    "kategorie"
   ]
  },
  {
   "cell_type": "code",
   "execution_count": 3,
   "metadata": {},
   "outputs": [
    {
     "name": "stdout",
     "output_type": "stream",
     "text": [
      "True False\n",
      "XXOXX OXXXX XOXXX \n",
      "XXXOX XXXXO XXXXO \n",
      "XOXXX XOXXX XXOXX \n",
      "XXXXO XXOXX OXXXX \n",
      "OXXXX XXXOX XXXOX \n",
      "\n",
      "XXXXO XXOXX \n",
      "XXOXX OXXXX \n",
      "XOXXX XOXXX \n",
      "OXXXX XXXOX \n",
      "XXXOX XXXXO \n",
      "\n",
      "XXOXX \n",
      "XOXXX \n",
      "XXXXO \n",
      "OXXXX \n",
      "XXXOX \n",
      "\n",
      "26\n"
     ]
    }
   ],
   "source": [
    "puzzle1 = puzzle(4,5)\n",
    "\n",
    "for i in range(40):\n",
    "    puzzle1.add_clue1()\n",
    "    puzzle1.use_clue1(i)\n",
    "    puzzle1.grid_concile()\n",
    "    \n",
    "    if puzzle1.is_grid_completed() or puzzle1.is_grid_contradictory():\n",
    "        print(puzzle1.is_grid_completed(), puzzle1.is_grid_contradictory())\n",
    "        break\n",
    "puzzle1.print_grid()\n",
    "print(len(puzzle1.clues))"
   ]
  },
  {
   "cell_type": "markdown",
   "metadata": {},
   "source": [
    "# Inne"
   ]
  },
  {
   "cell_type": "code",
   "execution_count": 67,
   "metadata": {},
   "outputs": [
    {
     "name": "stdout",
     "output_type": "stream",
     "text": [
      "Courier\n",
      "Courier-Bold\n",
      "Courier-BoldOblique\n",
      "Courier-Oblique\n",
      "Helvetica\n",
      "Helvetica-Bold\n",
      "Helvetica-BoldOblique\n",
      "Helvetica-Oblique\n",
      "Symbol\n",
      "Times-Bold\n",
      "Times-BoldItalic\n",
      "Times-Italic\n",
      "Times-Roman\n",
      "ZapfDingbats\n",
      "sans-serif\n"
     ]
    }
   ],
   "source": [
    "def fonts(canvas):\n",
    "    from reportlab.lib.units import inch\n",
    "    for font in canvas.getAvailableFonts():\n",
    "        print(font)\n",
    "fonts(c)"
   ]
  },
  {
   "cell_type": "code",
   "execution_count": null,
   "metadata": {},
   "outputs": [],
   "source": []
  },
  {
   "cell_type": "code",
   "execution_count": null,
   "metadata": {},
   "outputs": [],
   "source": []
  },
  {
   "cell_type": "code",
   "execution_count": null,
   "metadata": {},
   "outputs": [],
   "source": []
  },
  {
   "cell_type": "code",
   "execution_count": null,
   "metadata": {},
   "outputs": [],
   "source": []
  },
  {
   "cell_type": "code",
   "execution_count": null,
   "metadata": {},
   "outputs": [],
   "source": []
  }
 ],
 "metadata": {
  "kernelspec": {
   "display_name": "Python 3",
   "language": "python",
   "name": "python3"
  },
  "language_info": {
   "codemirror_mode": {
    "name": "ipython",
    "version": 3
   },
   "file_extension": ".py",
   "mimetype": "text/x-python",
   "name": "python",
   "nbconvert_exporter": "python",
   "pygments_lexer": "ipython3",
   "version": "3.7.3"
  }
 },
 "nbformat": 4,
 "nbformat_minor": 2
}
