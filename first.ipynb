{
 "cells": [
  {
   "cell_type": "markdown",
   "metadata": {},
   "source": [
    "# Rysowanie do PDF"
   ]
  },
  {
   "cell_type": "code",
   "execution_count": 1,
   "metadata": {},
   "outputs": [],
   "source": [
    "import numpy as np\n",
    "import pandas as pd\n",
    "import random\n",
    "from reportlab.pdfgen import canvas\n",
    "import copy\n",
    "\n",
    "import generating_cathegories_functions as funs\n",
    "from puzzle_class import puzzle\n",
    "from pdf_printing_functions import rysuj_zagadke"
   ]
  },
  {
   "cell_type": "markdown",
   "metadata": {},
   "source": [
    "### Wylosuj i wydrukuj zagadkę"
   ]
  },
  {
   "cell_type": "code",
   "execution_count": 19,
   "metadata": {},
   "outputs": [
    {
     "data": {
      "text/plain": [
       "12131"
      ]
     },
     "execution_count": 19,
     "metadata": {},
     "output_type": "execute_result"
    }
   ],
   "source": [
    "seed"
   ]
  },
  {
   "cell_type": "code",
   "execution_count": 2,
   "metadata": {},
   "outputs": [
    {
     "name": "stdout",
     "output_type": "stream",
     "text": [
      "True False\n"
     ]
    }
   ],
   "source": [
    "seed = 12131#random.randint(100,100000)\n",
    "puzzle1 = puzzle(4,5)\n",
    "puzzle1.set_seed(seed)\n",
    "puzzle1.draw_cathegories(diff=3)\n",
    "puzzle1.draw_clues()\n",
    "\n",
    "print(puzzle1.is_grid_completed(), puzzle1.is_grid_contradictory())\n"
   ]
  },
  {
   "cell_type": "code",
   "execution_count": 5,
   "metadata": {},
   "outputs": [
    {
     "name": "stdout",
     "output_type": "stream",
     "text": [
      "10\n",
      "[]\n",
      "10\n"
     ]
    }
   ],
   "source": [
    "print(len(puzzle1.clues))\n",
    "puzzle1.try_to_restrict_clues()      \n",
    "print(len(puzzle1.clues))\n",
    "puzzle1.try_to_solve()        \n",
    "if puzzle1.contradictory:\n",
    "    print(\"Wyszło sprzeczne!\")\n",
    "else:\n",
    "    c = canvas.Canvas(\"p\"+str(puzzle1.seed)+\"K\"+str(puzzle1.K)+\"k\"+str(puzzle1.k)+\"c\"+str(len(puzzle1.clues))+\".pdf\")\n",
    "    rysuj_zagadke(puzzle1, c)\n",
    "    c.showPage()\n",
    "    c.save()"
   ]
  },
  {
   "cell_type": "markdown",
   "metadata": {},
   "source": [
    "# Nowe"
   ]
  },
  {
   "cell_type": "code",
   "execution_count": 23,
   "metadata": {
    "scrolled": true
   },
   "outputs": [
    {
     "data": {
      "text/plain": [
       "[('cathegorical', ['królowa', 'pastuszek', 'dinozaur', 'myszka', 'kowboj']),\n",
       " ('cathegorical', ['Wu', 'Di', 'Huang', 'Mao', 'Zhang']),\n",
       " ('numerical',\n",
       "  [15.0, 17.5, 20.0, 22.5, 25.0],\n",
       "  {'x=y+2.5', 'x=y+5.0', 'x=y+7.5'},\n",
       "  'Wartość stałej'),\n",
       " ('numerical',\n",
       "  [2.0, 6.0, 18.0, 54.0, 162.0],\n",
       "  {'x=y*27', 'x=y*3', 'x=y*9'},\n",
       "  '@ klocków')]"
      ]
     },
     "execution_count": 23,
     "metadata": {},
     "output_type": "execute_result"
    }
   ],
   "source": [
    "puzzle1 = puzzle(4,5)\n",
    "puzzle1.set_seed(55)\n",
    "puzzle1.draw_cathegories()\n",
    "puzzle1.cathegories"
   ]
  },
  {
   "cell_type": "code",
   "execution_count": 24,
   "metadata": {
    "scrolled": true
   },
   "outputs": [
    {
     "name": "stdout",
     "output_type": "stream",
     "text": [
      "{'typ': 2, 'K1': 3, 'i1': 2, 'K2': 0, 'i2': 4, 'K3': 0, 'i3': 1, 'K6': 2}\n",
      "0\n",
      "{'typ': 2, 'K1': 2, 'i1': 0, 'K2': 2, 'i2': 4, 'K3': 0, 'i3': 4, 'K6': 3}\n",
      "1\n",
      "{'typ': 2, 'K1': 0, 'i1': 2, 'K2': 1, 'i2': 4, 'K3': 0, 'i3': 1, 'K6': 2}\n",
      "2\n",
      "{'typ': 3, 'K1': 0, 'i1': 0, 'K2': 0, 'i2': 1, 'K6': 3, 'diff': 9.0, 'oper': '*'}\n",
      "3\n"
     ]
    }
   ],
   "source": [
    "for i in range(50):\n",
    "    puzzle1.clear_grid()\n",
    "    puzzle1.clues = []\n",
    "    puzzle1.draw_clues()\n",
    "    print(puzzle1.clues[0])\n",
    "    print(i)\n",
    "    if puzzle1.is_grid_completed() and not puzzle1.is_grid_contradictory():\n",
    "        break"
   ]
  },
  {
   "cell_type": "code",
   "execution_count": 25,
   "metadata": {
    "scrolled": true
   },
   "outputs": [
    {
     "name": "stdout",
     "output_type": "stream",
     "text": [
      "Completed: True, Contradictory: False\n"
     ]
    }
   ],
   "source": [
    "puzzle1.print_info()"
   ]
  },
  {
   "cell_type": "code",
   "execution_count": 26,
   "metadata": {},
   "outputs": [
    {
     "name": "stdout",
     "output_type": "stream",
     "text": [
      "11\n",
      "[5]\n",
      "10\n"
     ]
    }
   ],
   "source": [
    "print(len(puzzle1.clues))\n",
    "puzzle1.try_to_restrict_clues()      \n",
    "print(len(puzzle1.clues))"
   ]
  },
  {
   "cell_type": "code",
   "execution_count": 27,
   "metadata": {},
   "outputs": [
    {
     "name": "stdout",
     "output_type": "stream",
     "text": [
      "Completed: True, Contradictory: False\n"
     ]
    }
   ],
   "source": [
    "puzzle1.try_to_solve()\n",
    "puzzle1.print_info()"
   ]
  },
  {
   "cell_type": "code",
   "execution_count": 28,
   "metadata": {},
   "outputs": [],
   "source": [
    "#c = canvas.Canvas(\"testy.pdf\")\n",
    "c = canvas.Canvas(\"p\"+str(puzzle1.seed)+\"K\"+str(puzzle1.K)+\"k\"+str(puzzle1.k)+\"c\"+str(len(puzzle1.clues))+\".pdf\")\n",
    "rysuj_zagadke(puzzle1, c)\n",
    "c.showPage()\n",
    "c.save()"
   ]
  },
  {
   "cell_type": "markdown",
   "metadata": {},
   "source": [
    "# Śmietnik"
   ]
  },
  {
   "cell_type": "code",
   "execution_count": 2,
   "metadata": {
    "scrolled": true
   },
   "outputs": [
    {
     "name": "stdout",
     "output_type": "stream",
     "text": [
      "Puzzle is contradictory with clue 2!\n",
      "Puzzle is contradictory with clue 2!\n",
      "Puzzle is contradictory with clue 2!\n",
      "Puzzle is contradictory with clue 2!\n",
      "Puzzle is contradictory with clue 2!\n",
      "Puzzle is contradictory with clue 2!\n",
      "Puzzle is contradictory with clue 2!\n",
      "Puzzle is contradictory with clue 2!\n",
      "Puzzle is contradictory with clue 2!\n",
      "Puzzle is contradictory with clue 2!\n",
      "Puzzle is contradictory with clue 2!\n",
      "Puzzle is contradictory with clue 2!\n",
      "Puzzle is contradictory with clue 2!\n",
      "Puzzle is contradictory with clue 2!\n",
      "Puzzle is contradictory with clue 2!\n",
      "Puzzle is contradictory with clue 2!\n",
      "Puzzle is contradictory with clue 2!\n",
      "Puzzle is contradictory with clue 2!\n",
      "Puzzle is contradictory with clue 2!\n",
      "Puzzle is contradictory with clue 2!\n",
      "Puzzle is contradictory with clue 2!\n",
      "Puzzle is contradictory with clue 2!\n",
      "Puzzle is contradictory with clue 2!\n",
      "Puzzle is contradictory with clue 2!\n",
      "Puzzle is contradictory with clue 2!\n",
      "Puzzle is contradictory with clue 2!\n",
      "Puzzle is contradictory with clue 2!\n",
      "Puzzle is contradictory with clue 2!\n",
      "Puzzle is contradictory with clue 2!\n",
      "Puzzle is contradictory with clue 2!\n",
      "Puzzle is contradictory with clue 2!\n",
      "Puzzle is contradictory with clue 2!\n",
      "Puzzle is contradictory with clue 2!\n",
      "Puzzle is contradictory with clue 2!\n",
      "Puzzle is contradictory with clue 2!\n",
      "Puzzle is contradictory with clue 2!\n",
      "Puzzle is contradictory with clue 2!\n",
      "Puzzle is contradictory with clue 2!\n",
      "Puzzle is contradictory with clue 2!\n",
      "Puzzle is contradictory with clue 2!\n",
      "Puzzle is contradictory with clue 2!\n",
      "Puzzle is contradictory with clue 2!\n",
      "Puzzle is contradictory with clue 2!\n",
      "Puzzle is contradictory with clue 2!\n",
      "Puzzle is contradictory with clue 2!\n",
      "Puzzle is contradictory with clue 2!\n",
      "Puzzle is contradictory with clue 2!\n",
      "Puzzle is contradictory with clue 2!\n",
      "Puzzle is contradictory with clue 2!\n",
      "Puzzle is contradictory with clue 2!\n",
      "Puzzle is contradictory with clue 2!\n",
      "Puzzle is contradictory with clue 2!\n",
      "Puzzle is contradictory with clue 2!\n",
      "Puzzle is contradictory with clue 2!\n",
      "Puzzle is contradictory with clue 2!\n",
      "Puzzle is contradictory with clue 2!\n",
      "Puzzle is contradictory with clue 2!\n",
      "Puzzle is contradictory with clue 2!\n",
      "Puzzle is contradictory with clue 2!\n",
      "Puzzle is contradictory with clue 2!\n",
      "Puzzle is contradictory with clue 2!\n",
      "Puzzle is contradictory with clue 2!\n",
      "Puzzle is contradictory with clue 2!\n",
      "Puzzle is contradictory with clue 2!\n",
      "Puzzle is contradictory with clue 2!\n",
      "Puzzle is contradictory with clue 2!\n",
      "Puzzle is contradictory with clue 2!\n",
      "Puzzle is contradictory with clue 2!\n",
      "Puzzle is contradictory with clue 2!\n",
      "Puzzle is contradictory with clue 2!\n",
      "Puzzle is contradictory with clue 2!\n",
      "Puzzle is contradictory with clue 2!\n",
      "Puzzle is contradictory with clue 2!\n",
      "Puzzle is contradictory with clue 2!\n",
      "Puzzle is contradictory with clue 2!\n",
      "Puzzle is contradictory with clue 2!\n",
      "Puzzle is contradictory with clue 2!\n",
      "Puzzle is contradictory with clue 2!\n",
      "Puzzle is contradictory with clue 2!\n",
      "Puzzle is contradictory with clue 2!\n",
      "Puzzle is contradictory with clue 2!\n",
      "Puzzle is contradictory with clue 2!\n",
      "Puzzle is contradictory with clue 2!\n",
      "Puzzle is contradictory with clue 2!\n",
      "Puzzle is contradictory with clue 2!\n",
      "Puzzle is contradictory with clue 2!\n",
      "Puzzle is contradictory with clue 2!\n",
      "Puzzle is contradictory with clue 2!\n",
      "Puzzle is contradictory with clue 2!\n",
      "Puzzle is contradictory with clue 2!\n",
      "Puzzle is contradictory with clue 2!\n",
      "Puzzle is contradictory with clue 2!\n",
      "Puzzle is contradictory with clue 2!\n",
      "Puzzle is contradictory with clue 2!\n",
      "Puzzle is contradictory with clue 2!\n",
      "Puzzle is contradictory with clue 2!\n",
      "Puzzle is contradictory with clue 2!\n",
      "Puzzle is contradictory with clue 2!\n",
      "Puzzle is contradictory with clue 2!\n",
      "Puzzle is contradictory with clue 2!\n",
      "Puzzle is contradictory with clue 2!\n",
      "Puzzle is contradictory with clue 2!\n",
      "Puzzle is contradictory with clue 2!\n",
      "Puzzle is contradictory with clue 2!\n",
      "Puzzle is contradictory with clue 2!\n",
      "Puzzle is contradictory with clue 2!\n",
      "Puzzle is contradictory with clue 2!\n",
      "Puzzle is contradictory with clue 2!\n",
      "Puzzle is contradictory with clue 2!\n",
      "Puzzle is contradictory with clue 2!\n",
      "Puzzle is contradictory with clue 2!\n",
      "Puzzle is contradictory with clue 2!\n",
      "Puzzle is contradictory with clue 2!\n",
      "Puzzle is contradictory with clue 2!\n",
      "Puzzle is contradictory with clue 2!\n",
      "Puzzle is contradictory with clue 2!\n",
      "Puzzle is contradictory with clue 2!\n",
      "Puzzle is contradictory with clue 2!\n",
      "Puzzle is contradictory with clue 2!\n",
      "Puzzle is contradictory with clue 2!\n",
      "Puzzle is contradictory with clue 2!\n",
      "Puzzle is contradictory with clue 2!\n",
      "Puzzle is contradictory with clue 2!\n",
      "Puzzle is contradictory with clue 2!\n",
      "Puzzle is contradictory with clue 2!\n",
      "Puzzle is contradictory with clue 2!\n",
      "Puzzle is contradictory with clue 2!\n",
      "Puzzle is contradictory with clue 2!\n",
      "Puzzle is contradictory with clue 2!\n",
      "Puzzle is contradictory with clue 2!\n",
      "Puzzle is contradictory with clue 2!\n",
      "Puzzle is contradictory with clue 2!\n",
      "Puzzle is contradictory with clue 2!\n",
      "Puzzle is contradictory with clue 2!\n",
      "Puzzle is contradictory with clue 2!\n",
      "Puzzle is contradictory with clue 2!\n",
      "Puzzle is contradictory with clue 2!\n",
      "Puzzle is contradictory with clue 2!\n",
      "Puzzle is contradictory with clue 2!\n",
      "Puzzle is contradictory with clue 2!\n",
      "Puzzle is contradictory with clue 2!\n",
      "Puzzle is contradictory with clue 2!\n",
      "Puzzle is contradictory with clue 2!\n",
      "Puzzle is contradictory with clue 2!\n",
      "Puzzle is contradictory with clue 2!\n",
      "Puzzle is contradictory with clue 2!\n",
      "Puzzle is contradictory with clue 2!\n",
      "Puzzle is contradictory with clue 2!\n",
      "Puzzle is contradictory with clue 2!\n",
      "Puzzle is contradictory with clue 2!\n",
      "Puzzle is contradictory with clue 2!\n",
      "Puzzle is contradictory with clue 2!\n",
      "Puzzle is contradictory with clue 2!\n",
      "Puzzle is contradictory with clue 2!\n",
      "Puzzle is contradictory with clue 2!\n",
      "Puzzle is contradictory with clue 2!\n",
      "Puzzle is contradictory with clue 2!\n",
      "Puzzle is contradictory with clue 2!\n",
      "Puzzle is contradictory with clue 2!\n",
      "Puzzle is contradictory with clue 2!\n",
      "Puzzle is contradictory with clue 2!\n",
      "Puzzle is contradictory with clue 2!\n",
      "Puzzle is contradictory with clue 2!\n",
      "Puzzle is contradictory with clue 2!\n",
      "Puzzle is contradictory with clue 2!\n",
      "Puzzle is contradictory with clue 2!\n",
      "Puzzle is contradictory with clue 2!\n"
     ]
    },
    {
     "ename": "Exception",
     "evalue": "Nie udało się znaleźć wystarczającej liczby interpretacji dla zmiennych numerycznych!",
     "output_type": "error",
     "traceback": [
      "\u001b[0;31m---------------------------------------------------------------------------\u001b[0m",
      "\u001b[0;31mException\u001b[0m                                 Traceback (most recent call last)",
      "\u001b[0;32m<ipython-input-2-9cb0e77f6bab>\u001b[0m in \u001b[0;36m<module>\u001b[0;34m\u001b[0m\n\u001b[1;32m      5\u001b[0m     \u001b[0mpuzzle1\u001b[0m \u001b[0;34m=\u001b[0m \u001b[0mpuzzle\u001b[0m\u001b[0;34m(\u001b[0m\u001b[0;36m4\u001b[0m\u001b[0;34m,\u001b[0m\u001b[0;36m5\u001b[0m\u001b[0;34m)\u001b[0m\u001b[0;34m\u001b[0m\u001b[0;34m\u001b[0m\u001b[0m\n\u001b[1;32m      6\u001b[0m     \u001b[0mpuzzle1\u001b[0m\u001b[0;34m.\u001b[0m\u001b[0mset_seed\u001b[0m\u001b[0;34m(\u001b[0m\u001b[0mseed\u001b[0m\u001b[0;34m)\u001b[0m\u001b[0;34m\u001b[0m\u001b[0;34m\u001b[0m\u001b[0m\n\u001b[0;32m----> 7\u001b[0;31m     \u001b[0mpuzzle1\u001b[0m\u001b[0;34m.\u001b[0m\u001b[0mdraw_cathegories\u001b[0m\u001b[0;34m(\u001b[0m\u001b[0mdiff\u001b[0m\u001b[0;34m=\u001b[0m\u001b[0;36m3\u001b[0m\u001b[0;34m)\u001b[0m\u001b[0;34m\u001b[0m\u001b[0;34m\u001b[0m\u001b[0m\n\u001b[0m\u001b[1;32m      8\u001b[0m     \u001b[0mpuzzle1\u001b[0m\u001b[0;34m.\u001b[0m\u001b[0mdraw_clues\u001b[0m\u001b[0;34m(\u001b[0m\u001b[0;34m)\u001b[0m\u001b[0;34m\u001b[0m\u001b[0;34m\u001b[0m\u001b[0m\n\u001b[1;32m      9\u001b[0m     \u001b[0;32mif\u001b[0m \u001b[0mpuzzle1\u001b[0m\u001b[0;34m.\u001b[0m\u001b[0mis_grid_completed\u001b[0m\u001b[0;34m(\u001b[0m\u001b[0;34m)\u001b[0m \u001b[0;32mand\u001b[0m \u001b[0;32mnot\u001b[0m \u001b[0mpuzzle1\u001b[0m\u001b[0;34m.\u001b[0m\u001b[0mis_grid_contradictory\u001b[0m\u001b[0;34m(\u001b[0m\u001b[0;34m)\u001b[0m\u001b[0;34m:\u001b[0m\u001b[0;34m\u001b[0m\u001b[0;34m\u001b[0m\u001b[0m\n",
      "\u001b[0;32m~/Documents/Github/logic_text_puzzles/puzzle_class.py\u001b[0m in \u001b[0;36mdraw_cathegories\u001b[0;34m(self, diff)\u001b[0m\n\u001b[1;32m    467\u001b[0m     \u001b[0;32mif\u001b[0m \u001b[0;32mnot\u001b[0m \u001b[0mdiff\u001b[0m \u001b[0;32min\u001b[0m \u001b[0;34m[\u001b[0m\u001b[0;36m2\u001b[0m\u001b[0;34m,\u001b[0m\u001b[0;36m3\u001b[0m\u001b[0;34m,\u001b[0m\u001b[0;36m4\u001b[0m\u001b[0;34m]\u001b[0m\u001b[0;34m:\u001b[0m\u001b[0;34m\u001b[0m\u001b[0;34m\u001b[0m\u001b[0m\n\u001b[1;32m    468\u001b[0m         \u001b[0;32mraise\u001b[0m \u001b[0mException\u001b[0m\u001b[0;34m(\u001b[0m\u001b[0;34m\"Można losować zagadki tylko o liczbie gwiazdek równej 2, 3 albo 4!\"\u001b[0m\u001b[0;34m)\u001b[0m\u001b[0;34m\u001b[0m\u001b[0;34m\u001b[0m\u001b[0m\n\u001b[0;32m--> 469\u001b[0;31m     \u001b[0mself\u001b[0m\u001b[0;34m.\u001b[0m\u001b[0mcathegories\u001b[0m \u001b[0;34m=\u001b[0m \u001b[0mfuns\u001b[0m\u001b[0;34m.\u001b[0m\u001b[0mlosuj_kategorie\u001b[0m\u001b[0;34m(\u001b[0m\u001b[0mself\u001b[0m\u001b[0;34m.\u001b[0m\u001b[0mK\u001b[0m\u001b[0;34m,\u001b[0m \u001b[0mself\u001b[0m\u001b[0;34m.\u001b[0m\u001b[0mk\u001b[0m\u001b[0;34m,\u001b[0m \u001b[0mdiff\u001b[0m\u001b[0;34m,\u001b[0m \u001b[0mself\u001b[0m\u001b[0;34m.\u001b[0m\u001b[0mseed\u001b[0m\u001b[0;34m)\u001b[0m\u001b[0;34m\u001b[0m\u001b[0;34m\u001b[0m\u001b[0m\n\u001b[0m\u001b[1;32m    470\u001b[0m     \u001b[0mi\u001b[0m \u001b[0;34m=\u001b[0m \u001b[0;36m0\u001b[0m\u001b[0;34m\u001b[0m\u001b[0;34m\u001b[0m\u001b[0m\n\u001b[1;32m    471\u001b[0m     \u001b[0mi_max\u001b[0m \u001b[0;34m=\u001b[0m \u001b[0;36m100\u001b[0m\u001b[0;34m\u001b[0m\u001b[0;34m\u001b[0m\u001b[0m\n",
      "\u001b[0;32m~/Documents/Github/logic_text_puzzles/generating_cathegories_functions.py\u001b[0m in \u001b[0;36mlosuj_kategorie\u001b[0;34m(K, k, gwiazdki, seed)\u001b[0m\n\u001b[1;32m    360\u001b[0m         \u001b[0;31m# próbujemy wylosować interpretację, tak żeby się nie powtarzać\u001b[0m\u001b[0;34m\u001b[0m\u001b[0;34m\u001b[0m\u001b[0;34m\u001b[0m\u001b[0m\n\u001b[1;32m    361\u001b[0m         \u001b[0;32mfor\u001b[0m \u001b[0mj\u001b[0m \u001b[0;32min\u001b[0m \u001b[0mrange\u001b[0m\u001b[0;34m(\u001b[0m\u001b[0;36m20\u001b[0m\u001b[0;34m)\u001b[0m\u001b[0;34m:\u001b[0m\u001b[0;34m\u001b[0m\u001b[0;34m\u001b[0m\u001b[0m\n\u001b[0;32m--> 362\u001b[0;31m             \u001b[0mlos_interpret\u001b[0m \u001b[0;34m=\u001b[0m \u001b[0mlosuj_interpretacje_num\u001b[0m\u001b[0;34m(\u001b[0m\u001b[0mlos\u001b[0m\u001b[0;34m[\u001b[0m\u001b[0;36m1\u001b[0m\u001b[0;34m]\u001b[0m\u001b[0;34m)\u001b[0m\u001b[0;34m\u001b[0m\u001b[0;34m\u001b[0m\u001b[0m\n\u001b[0m\u001b[1;32m    363\u001b[0m             \u001b[0;32mif\u001b[0m \u001b[0;32mnot\u001b[0m \u001b[0mlos_interpret\u001b[0m\u001b[0;34m[\u001b[0m\u001b[0;36m0\u001b[0m\u001b[0;34m]\u001b[0m \u001b[0;32min\u001b[0m \u001b[0minterpretacje\u001b[0m\u001b[0;34m:\u001b[0m\u001b[0;34m\u001b[0m\u001b[0;34m\u001b[0m\u001b[0m\n\u001b[1;32m    364\u001b[0m                 \u001b[0minterpretacje\u001b[0m\u001b[0;34m.\u001b[0m\u001b[0mappend\u001b[0m\u001b[0;34m(\u001b[0m\u001b[0mlos_interpret\u001b[0m\u001b[0;34m[\u001b[0m\u001b[0;36m0\u001b[0m\u001b[0;34m]\u001b[0m\u001b[0;34m)\u001b[0m\u001b[0;34m\u001b[0m\u001b[0;34m\u001b[0m\u001b[0m\n",
      "\u001b[0;32m~/Documents/Github/logic_text_puzzles/generating_cathegories_functions.py\u001b[0m in \u001b[0;36mlosuj_interpretacje_num\u001b[0;34m(values)\u001b[0m\n\u001b[1;32m    313\u001b[0m \u001b[0;34m\u001b[0m\u001b[0m\n\u001b[1;32m    314\u001b[0m     \u001b[0;32mif\u001b[0m \u001b[0mlen\u001b[0m\u001b[0;34m(\u001b[0m\u001b[0minterpretacje\u001b[0m\u001b[0;34m)\u001b[0m\u001b[0;34m<\u001b[0m\u001b[0;36m1\u001b[0m\u001b[0;34m:\u001b[0m\u001b[0;34m\u001b[0m\u001b[0;34m\u001b[0m\u001b[0m\n\u001b[0;32m--> 315\u001b[0;31m         \u001b[0;32mraise\u001b[0m \u001b[0mException\u001b[0m\u001b[0;34m(\u001b[0m\u001b[0;34m\"Nie udało się znaleźć wystarczającej liczby interpretacji dla zmiennych numerycznych!\"\u001b[0m\u001b[0;34m)\u001b[0m\u001b[0;34m\u001b[0m\u001b[0;34m\u001b[0m\u001b[0m\n\u001b[0m\u001b[1;32m    316\u001b[0m \u001b[0;34m\u001b[0m\u001b[0m\n\u001b[1;32m    317\u001b[0m     \u001b[0mteksty\u001b[0m \u001b[0;34m=\u001b[0m \u001b[0;34m[\u001b[0m \u001b[0mt\u001b[0m\u001b[0;34m[\u001b[0m\u001b[0;36m0\u001b[0m\u001b[0;34m]\u001b[0m \u001b[0;32mfor\u001b[0m \u001b[0mt\u001b[0m \u001b[0;32min\u001b[0m \u001b[0minterpretacje\u001b[0m \u001b[0;34m]\u001b[0m\u001b[0;34m\u001b[0m\u001b[0;34m\u001b[0m\u001b[0m\n",
      "\u001b[0;31mException\u001b[0m: Nie udało się znaleźć wystarczającej liczby interpretacji dla zmiennych numerycznych!"
     ]
    }
   ],
   "source": [
    "correct = 0\n",
    "N = 100\n",
    "for i in range(N):\n",
    "    seed = random.randint(100,100000)\n",
    "    puzzle1 = puzzle(4,5)\n",
    "    puzzle1.set_seed(seed)\n",
    "    puzzle1.draw_cathegories(diff=3)\n",
    "    puzzle1.draw_clues()\n",
    "    if puzzle1.is_grid_completed() and not puzzle1.is_grid_contradictory():\n",
    "        correct += 1\n",
    "\n",
    "#print(puzzle1.is_grid_completed(), puzzle1.is_grid_contradictory())"
   ]
  },
  {
   "cell_type": "code",
   "execution_count": 90,
   "metadata": {
    "scrolled": false
   },
   "outputs": [
    {
     "name": "stdout",
     "output_type": "stream",
     "text": [
      "True False\n",
      "10\n",
      "[]\n",
      "10\n"
     ]
    }
   ],
   "source": [
    "seed = random.randint(100,100000)\n",
    "puzzle1 = puzzle(3,6)\n",
    "puzzle1.set_seed(seed)\n",
    "puzzle1.draw_cathegories(diff=3)\n",
    "puzzle1.draw_clues()\n",
    "\n",
    "print(puzzle1.is_grid_completed(), puzzle1.is_grid_contradictory())\n",
    "print(len(puzzle1.clues))\n",
    "puzzle1.try_to_restrict_clues()      \n",
    "print(len(puzzle1.clues))\n",
    "puzzle1.try_to_solve()        \n",
    "if puzzle1.is_grid_contradictory():\n",
    "    print(\"Wyszło sprzeczne!\")\n",
    "else:\n",
    "    c = canvas.Canvas(\"p\"+str(puzzle1.seed)+\"K\"+str(puzzle1.K)+\"k\"+str(puzzle1.k)+\"c\"+str(len(puzzle1.clues))+\".pdf\")\n",
    "    rysuj_zagadke(puzzle1, c)\n",
    "    c.showPage()\n",
    "    c.save()"
   ]
  },
  {
   "cell_type": "markdown",
   "metadata": {},
   "source": [
    "# Inne"
   ]
  },
  {
   "cell_type": "code",
   "execution_count": 67,
   "metadata": {},
   "outputs": [
    {
     "name": "stdout",
     "output_type": "stream",
     "text": [
      "Courier\n",
      "Courier-Bold\n",
      "Courier-BoldOblique\n",
      "Courier-Oblique\n",
      "Helvetica\n",
      "Helvetica-Bold\n",
      "Helvetica-BoldOblique\n",
      "Helvetica-Oblique\n",
      "Symbol\n",
      "Times-Bold\n",
      "Times-BoldItalic\n",
      "Times-Italic\n",
      "Times-Roman\n",
      "ZapfDingbats\n",
      "sans-serif\n"
     ]
    }
   ],
   "source": [
    "def fonts(canvas):\n",
    "    from reportlab.lib.units import inch\n",
    "    for font in canvas.getAvailableFonts():\n",
    "        print(font)\n",
    "fonts(c)"
   ]
  },
  {
   "cell_type": "code",
   "execution_count": null,
   "metadata": {},
   "outputs": [],
   "source": []
  },
  {
   "cell_type": "code",
   "execution_count": null,
   "metadata": {},
   "outputs": [],
   "source": []
  },
  {
   "cell_type": "code",
   "execution_count": null,
   "metadata": {},
   "outputs": [],
   "source": []
  },
  {
   "cell_type": "code",
   "execution_count": null,
   "metadata": {},
   "outputs": [],
   "source": []
  },
  {
   "cell_type": "code",
   "execution_count": null,
   "metadata": {},
   "outputs": [],
   "source": []
  }
 ],
 "metadata": {
  "kernelspec": {
   "display_name": "Python 3",
   "language": "python",
   "name": "python3"
  },
  "language_info": {
   "codemirror_mode": {
    "name": "ipython",
    "version": 3
   },
   "file_extension": ".py",
   "mimetype": "text/x-python",
   "name": "python",
   "nbconvert_exporter": "python",
   "pygments_lexer": "ipython3",
   "version": "3.7.3"
  }
 },
 "nbformat": 4,
 "nbformat_minor": 2
}
