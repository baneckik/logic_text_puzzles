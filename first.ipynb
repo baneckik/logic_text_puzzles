{
 "cells": [
  {
   "cell_type": "markdown",
   "metadata": {},
   "source": [
    "# Rysowanie do PDF"
   ]
  },
  {
   "cell_type": "code",
   "execution_count": 1,
   "metadata": {},
   "outputs": [],
   "source": [
    "import numpy as np\n",
    "import pandas as pd\n",
    "import random\n",
    "from reportlab.pdfgen import canvas\n",
    "\n",
    "import generating_cathegories_functions as funs\n",
    "from puzzle_class import puzzle\n",
    "from pdf_printing_functions import rysuj_zagadke"
   ]
  },
  {
   "cell_type": "code",
   "execution_count": 5,
   "metadata": {},
   "outputs": [],
   "source": [
    "kategorie = funs.losuj_kategorie(4, 5, 3, random.randint(100,100000))\n",
    "\n",
    "puzzle1 = puzzle(4,5)\n",
    "for i in range(40):\n",
    "    puzzle1.add_clue1()\n",
    "    puzzle1.use_clue1(i)\n",
    "    puzzle1.grid_concile()\n",
    "    if puzzle1.is_grid_completed() or puzzle1.is_grid_contradictory():\n",
    "        break\n",
    "\n",
    "if puzzle1.is_grid_contradictory():\n",
    "    print(\"Wyszło sprzeczne!\")\n",
    "        \n",
    "c = canvas.Canvas(\"rotate.pdf\")\n",
    "rysuj_zagadke(kategorie, puzzle1.clues, c)\n",
    "c.showPage()\n",
    "c.save()"
   ]
  },
  {
   "cell_type": "code",
   "execution_count": 6,
   "metadata": {},
   "outputs": [
    {
     "data": {
      "text/plain": [
       "[('cathegorical', ['Max', 'Vasco', 'Alvin', 'Pablo', 'Urwis']),\n",
       " ('numerical',\n",
       "  [1500.0, 3000.0, 4500.0, 7500.0, 10500.0],\n",
       "  {'x=y+1500.0', 'x=y+3000.0', 'x=y+6000.0'},\n",
       "  '@ CHF'),\n",
       " ('numerical',\n",
       "  [6.0, 12.0, 18.0, 24.0, 30.0],\n",
       "  {'x=y*2', 'x=y+12.0', 'x=y+18.0', 'x=y+6.0'},\n",
       "  '@ metrów'),\n",
       " ('numerical',\n",
       "  [3.0, 9.0, 12.0, 18.0, 21.0],\n",
       "  {'x=y+3.0', 'x=y+6.0', 'x=y+9.0'},\n",
       "  'Sprawdzian')]"
      ]
     },
     "execution_count": 6,
     "metadata": {},
     "output_type": "execute_result"
    }
   ],
   "source": [
    "kategorie"
   ]
  },
  {
   "cell_type": "code",
   "execution_count": 3,
   "metadata": {},
   "outputs": [
    {
     "name": "stdout",
     "output_type": "stream",
     "text": [
      "True False\n",
      "XXOXX OXXXX XOXXX \n",
      "XXXOX XXXXO XXXXO \n",
      "XOXXX XOXXX XXOXX \n",
      "XXXXO XXOXX OXXXX \n",
      "OXXXX XXXOX XXXOX \n",
      "\n",
      "XXXXO XXOXX \n",
      "XXOXX OXXXX \n",
      "XOXXX XOXXX \n",
      "OXXXX XXXOX \n",
      "XXXOX XXXXO \n",
      "\n",
      "XXOXX \n",
      "XOXXX \n",
      "XXXXO \n",
      "OXXXX \n",
      "XXXOX \n",
      "\n",
      "26\n"
     ]
    }
   ],
   "source": [
    "puzzle1 = puzzle(4,5)\n",
    "\n",
    "for i in range(40):\n",
    "    puzzle1.add_clue1()\n",
    "    puzzle1.use_clue1(i)\n",
    "    puzzle1.grid_concile()\n",
    "    \n",
    "    if puzzle1.is_grid_completed() or puzzle1.is_grid_contradictory():\n",
    "        print(puzzle1.is_grid_completed(), puzzle1.is_grid_contradictory())\n",
    "        break\n",
    "puzzle1.print_grid()\n",
    "print(len(puzzle1.clues))"
   ]
  },
  {
   "cell_type": "markdown",
   "metadata": {},
   "source": [
    "# Inne"
   ]
  },
  {
   "cell_type": "code",
   "execution_count": 67,
   "metadata": {},
   "outputs": [
    {
     "name": "stdout",
     "output_type": "stream",
     "text": [
      "Courier\n",
      "Courier-Bold\n",
      "Courier-BoldOblique\n",
      "Courier-Oblique\n",
      "Helvetica\n",
      "Helvetica-Bold\n",
      "Helvetica-BoldOblique\n",
      "Helvetica-Oblique\n",
      "Symbol\n",
      "Times-Bold\n",
      "Times-BoldItalic\n",
      "Times-Italic\n",
      "Times-Roman\n",
      "ZapfDingbats\n",
      "sans-serif\n"
     ]
    }
   ],
   "source": [
    "def fonts(canvas):\n",
    "    from reportlab.lib.units import inch\n",
    "    for font in canvas.getAvailableFonts():\n",
    "        print(font)\n",
    "fonts(c)"
   ]
  },
  {
   "cell_type": "code",
   "execution_count": null,
   "metadata": {},
   "outputs": [],
   "source": []
  },
  {
   "cell_type": "code",
   "execution_count": null,
   "metadata": {},
   "outputs": [],
   "source": []
  },
  {
   "cell_type": "code",
   "execution_count": null,
   "metadata": {},
   "outputs": [],
   "source": []
  },
  {
   "cell_type": "code",
   "execution_count": null,
   "metadata": {},
   "outputs": [],
   "source": []
  },
  {
   "cell_type": "code",
   "execution_count": null,
   "metadata": {},
   "outputs": [],
   "source": []
  }
 ],
 "metadata": {
  "kernelspec": {
   "display_name": "Python 3",
   "language": "python",
   "name": "python3"
  },
  "language_info": {
   "codemirror_mode": {
    "name": "ipython",
    "version": 3
   },
   "file_extension": ".py",
   "mimetype": "text/x-python",
   "name": "python",
   "nbconvert_exporter": "python",
   "pygments_lexer": "ipython3",
   "version": "3.7.3"
  }
 },
 "nbformat": 4,
 "nbformat_minor": 2
}
