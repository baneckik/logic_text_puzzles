{
 "cells": [
  {
   "cell_type": "code",
   "execution_count": 1,
   "metadata": {},
   "outputs": [],
   "source": [
    "import numpy as np\n",
    "import pandas as pd\n",
    "from puzzle_class import puzzle"
   ]
  },
  {
   "cell_type": "code",
   "execution_count": 2,
   "metadata": {},
   "outputs": [],
   "source": [
    "puzzle1 = puzzle(4,6)\n",
    "\n",
    "puzzle1.grid_insert(2, 2, 1, 3, \"X\")\n",
    "puzzle1.grid_insert(2, 2, 1, 0, \"X\")\n",
    "puzzle1.grid_insert(2, 2, 1, 2, \"X\")\n",
    "\n",
    "puzzle1.grid_insert(2, 0, 1, 2, \"X\")\n",
    "puzzle1.grid_insert(2, 0, 1, 3, \"X\")\n",
    "puzzle1.grid_insert(2, 0, 1, 0, \"X\")\n",
    "\n",
    "puzzle1.grid_insert(2, 5, 1, 2, \"X\")\n",
    "puzzle1.grid_insert(2, 5, 1, 3, \"X\")\n",
    "puzzle1.grid_insert(2, 5, 1, 0, \"X\")"
   ]
  },
  {
   "cell_type": "code",
   "execution_count": 3,
   "metadata": {},
   "outputs": [
    {
     "data": {
      "text/plain": [
       "[('cathegorical',\n",
       "  ['Śródmieście', 'Rembertów', 'Targówek', 'Mokotów', 'Żoliborz', 'Bemowo']),\n",
       " ('cathegorical',\n",
       "  ['Jegor', 'Wladimir', 'Aleksandr', 'Michaił', 'Nikita', 'Dmitrij']),\n",
       " ('cathegorical',\n",
       "  ['Wójcicki', 'Mazur', 'Piotrowski', 'Jankowski', 'Dąbrowski', 'Kochański']),\n",
       " ('numerical',\n",
       "  [2.0, 4.0, 6.0, 8.0, 10.0, 12.0],\n",
       "  {'x=y*2.0', 'x=y+2.0', 'x=y+4.0', 'x=y+6.0'},\n",
       "  '@ pasków')]"
      ]
     },
     "execution_count": 3,
     "metadata": {},
     "output_type": "execute_result"
    }
   ],
   "source": [
    "puzzle1.cathegories"
   ]
  },
  {
   "cell_type": "code",
   "execution_count": 64,
   "metadata": {},
   "outputs": [
    {
     "name": "stdout",
     "output_type": "stream",
     "text": [
      "True False\n",
      "OXXXX XOXXX XXXXO \n",
      "XXXXO XXOXX XOXXX \n",
      "XOXXX OXXXX OXXXX \n",
      "XXOXX XXXOX XXOXX \n",
      "XXXOX XXXXO XXXOX \n",
      "\n",
      "XOXXX OXXXX \n",
      "XXXXO XXOXX \n",
      "XXOXX XXXOX \n",
      "XXXOX XXXXO \n",
      "OXXXX XOXXX \n",
      "\n",
      "XOXXX \n",
      "OXXXX \n",
      "XXXXO \n",
      "XXOXX \n",
      "XXXOX \n",
      "\n",
      "34\n"
     ]
    }
   ],
   "source": [
    "puzzle1 = puzzle(4,5)\n",
    "\n",
    "for i in range(40):\n",
    "    puzzle1.add_clue1()\n",
    "    puzzle1.use_clue1(i)\n",
    "    puzzle1.grid_concile()\n",
    "    \n",
    "    if puzzle1.is_grid_completed() or puzzle1.is_grid_contradictory():\n",
    "        print(puzzle1.is_grid_completed(), puzzle1.is_grid_contradictory())\n",
    "        break\n",
    "puzzle1.print_grid()\n",
    "print(len(puzzle1.clues))"
   ]
  },
  {
   "cell_type": "code",
   "execution_count": null,
   "metadata": {},
   "outputs": [],
   "source": []
  },
  {
   "cell_type": "code",
   "execution_count": null,
   "metadata": {},
   "outputs": [],
   "source": []
  },
  {
   "cell_type": "code",
   "execution_count": null,
   "metadata": {},
   "outputs": [],
   "source": []
  },
  {
   "cell_type": "code",
   "execution_count": null,
   "metadata": {},
   "outputs": [],
   "source": []
  },
  {
   "cell_type": "code",
   "execution_count": null,
   "metadata": {},
   "outputs": [],
   "source": []
  },
  {
   "cell_type": "code",
   "execution_count": null,
   "metadata": {},
   "outputs": [],
   "source": []
  }
 ],
 "metadata": {
  "kernelspec": {
   "display_name": "Python 3",
   "language": "python",
   "name": "python3"
  },
  "language_info": {
   "codemirror_mode": {
    "name": "ipython",
    "version": 3
   },
   "file_extension": ".py",
   "mimetype": "text/x-python",
   "name": "python",
   "nbconvert_exporter": "python",
   "pygments_lexer": "ipython3",
   "version": "3.7.3"
  }
 },
 "nbformat": 4,
 "nbformat_minor": 2
}
