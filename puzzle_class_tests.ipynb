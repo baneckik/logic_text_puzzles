{
 "cells": [
  {
   "cell_type": "code",
   "execution_count": 1,
   "metadata": {},
   "outputs": [],
   "source": [
    "import numpy as np\n",
    "import pandas as pd\n",
    "from puzzle_class import puzzle"
   ]
  },
  {
   "cell_type": "code",
   "execution_count": 20,
   "metadata": {},
   "outputs": [],
   "source": [
    "puzzle1 = puzzle(5,5)\n",
    "\n",
    "puzzle1.grid_insert(3, 2, 4, 3, \"O\")\n",
    "puzzle1.grid_insert(0, 0, 1, 4, \"O\")\n",
    "puzzle1.grid_insert(3, 3, 1, 2, \"O\")"
   ]
  },
  {
   "cell_type": "code",
   "execution_count": 21,
   "metadata": {
    "scrolled": false
   },
   "outputs": [
    {
     "name": "stdout",
     "output_type": "stream",
     "text": [
      "----- ----- ----- ----O \n",
      "----- ----- ----- ----- \n",
      "----- ----- ----- ----- \n",
      "----- ----- ----- ----- \n",
      "----- ----- ----- ----- \n",
      "\n",
      "----- ----- ----- \n",
      "----- ----- ----- \n",
      "----- ---O- ----- \n",
      "----- ----- ----- \n",
      "----- ----- ----- \n",
      "\n",
      "----- ----- \n",
      "----- ----- \n",
      "----- ----- \n",
      "----- ----- \n",
      "----- ----- \n",
      "\n",
      "----- \n",
      "----- \n",
      "---O- \n",
      "----- \n",
      "----- \n",
      "\n"
     ]
    }
   ],
   "source": [
    "puzzle1.print_grid()"
   ]
  },
  {
   "cell_type": "code",
   "execution_count": 34,
   "metadata": {},
   "outputs": [],
   "source": [
    "puzzle1.grid_concile1()"
   ]
  },
  {
   "cell_type": "code",
   "execution_count": 35,
   "metadata": {},
   "outputs": [
    {
     "name": "stdout",
     "output_type": "stream",
     "text": [
      "-X--- X---- ----- XXXXO \n",
      "-X--- X---- ----- ----X \n",
      "-X--- OXXXX ----- ----X \n",
      "-X--- X---- ----- ----X \n",
      "XOXXX X---- ----- ----X \n",
      "\n",
      "----- ---X- ----- \n",
      "----- ---X- ----- \n",
      "----- XXXOX ----- \n",
      "----- ---X- ----- \n",
      "----- ---X- ----- \n",
      "\n",
      "-X--- ----- \n",
      "-X--- ----- \n",
      "XOXXX ----- \n",
      "-X--- ----- \n",
      "-X--- ----- \n",
      "\n",
      "---X- \n",
      "---X- \n",
      "XXXOX \n",
      "---X- \n",
      "---X- \n",
      "\n"
     ]
    }
   ],
   "source": [
    "puzzle1.print_grid()"
   ]
  },
  {
   "cell_type": "code",
   "execution_count": 30,
   "metadata": {},
   "outputs": [],
   "source": [
    "puzzle1.grid_insert(2, 0, 4, 1, \"X\")\n",
    "puzzle1.grid_insert(2, 4, 4, 1, \"X\")\n",
    "puzzle1.grid_insert(2, 3, 4, 1, \"X\")\n",
    "puzzle1.grid_insert(2, 1, 4, 1, \"X\")\n",
    "\n",
    "puzzle1.grid_insert(0, 2, 3, 1, \"X\")\n",
    "puzzle1.grid_insert(0, 2, 3, 2, \"X\")\n",
    "puzzle1.grid_insert(0, 2, 3, 3, \"X\")\n",
    "puzzle1.grid_insert(0, 2, 3, 4, \"X\")"
   ]
  },
  {
   "cell_type": "code",
   "execution_count": null,
   "metadata": {},
   "outputs": [],
   "source": [
    "puzzle1.print_grid()"
   ]
  },
  {
   "cell_type": "code",
   "execution_count": 32,
   "metadata": {},
   "outputs": [],
   "source": [
    "puzzle1.grid_concile2()"
   ]
  }
 ],
 "metadata": {
  "kernelspec": {
   "display_name": "Python 3",
   "language": "python",
   "name": "python3"
  },
  "language_info": {
   "codemirror_mode": {
    "name": "ipython",
    "version": 3
   },
   "file_extension": ".py",
   "mimetype": "text/x-python",
   "name": "python",
   "nbconvert_exporter": "python",
   "pygments_lexer": "ipython3",
   "version": "3.7.3"
  }
 },
 "nbformat": 4,
 "nbformat_minor": 2
}
