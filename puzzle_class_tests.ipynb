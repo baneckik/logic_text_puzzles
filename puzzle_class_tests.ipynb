{
 "cells": [
  {
   "cell_type": "code",
   "execution_count": 1,
   "metadata": {},
   "outputs": [],
   "source": [
    "import numpy as np\n",
    "import pandas as pd\n",
    "from puzzle_class import puzzle"
   ]
  },
  {
   "cell_type": "code",
   "execution_count": 2,
   "metadata": {},
   "outputs": [],
   "source": [
    "puzzle1 = puzzle(4,6)\n",
    "\n",
    "puzzle1.grid_insert(2, 2, 1, 3, \"X\")\n",
    "puzzle1.grid_insert(2, 2, 1, 0, \"X\")\n",
    "puzzle1.grid_insert(2, 2, 1, 2, \"X\")\n",
    "\n",
    "puzzle1.grid_insert(2, 0, 1, 2, \"X\")\n",
    "puzzle1.grid_insert(2, 0, 1, 3, \"X\")\n",
    "puzzle1.grid_insert(2, 0, 1, 0, \"X\")\n",
    "\n",
    "puzzle1.grid_insert(2, 5, 1, 2, \"X\")\n",
    "puzzle1.grid_insert(2, 5, 1, 3, \"X\")\n",
    "puzzle1.grid_insert(2, 5, 1, 0, \"X\")"
   ]
  },
  {
   "cell_type": "code",
   "execution_count": 2,
   "metadata": {},
   "outputs": [],
   "source": [
    "puzzle1 = puzzle(4,6)"
   ]
  },
  {
   "cell_type": "code",
   "execution_count": 3,
   "metadata": {},
   "outputs": [],
   "source": [
    "seed = 1231\n",
    "puzzle1.set_seed(seed)\n",
    "puzzle1.draw_cathegories(diff=3)"
   ]
  },
  {
   "cell_type": "code",
   "execution_count": 9,
   "metadata": {
    "scrolled": true
   },
   "outputs": [],
   "source": [
    "puzzle1.draw_clues()"
   ]
  },
  {
   "cell_type": "code",
   "execution_count": 10,
   "metadata": {},
   "outputs": [
    {
     "data": {
      "text/plain": [
       "[{'typ': 2, 'K1': 0, 'i1': 1, 'K2': 0, 'i2': 5, 'K3': 2, 'i3': 3, 'K6': 3},\n",
       " {'typ': 2, 'K1': 1, 'i1': 3, 'K2': 1, 'i2': 4, 'K3': 2, 'i3': 0, 'K6': 3},\n",
       " {'typ': 2, 'K1': 0, 'i1': 5, 'K2': 0, 'i2': 0, 'K3': 0, 'i3': 1, 'K6': 2},\n",
       " {'typ': 2, 'K1': 0, 'i1': 2, 'K2': 0, 'i2': 0, 'K3': 2, 'i3': 2, 'K6': 3},\n",
       " {'typ': 1, 'K1': 1, 'i1': 4, 'K2': 3, 'i2': 3},\n",
       " {'typ': 1, 'K1': 0, 'i1': 2, 'K2': 1, 'i2': 0, 'i3': 2},\n",
       " {'typ': 1, 'K1': 0, 'i1': 1, 'K2': 2, 'i2': 3, 'i3': 2},\n",
       " {'typ': 1, 'K1': 0, 'i1': 1, 'K2': 1, 'i2': 0},\n",
       " {'typ': 1, 'K1': 3, 'i1': 3, 'K2': 0, 'i2': 3, 'i3': 0, 'i4': 5},\n",
       " {'typ': 1, 'K1': 2, 'i1': 1, 'K2': 3, 'i2': 3},\n",
       " {'typ': 1, 'K1': 3, 'i1': 4, 'K2': 0, 'i2': 4, 'i3': 5, 'i4': 0},\n",
       " {'typ': 1, 'K1': 1, 'i1': 2, 'K2': 2, 'i2': 2},\n",
       " {'typ': 1, 'K1': 1, 'i1': 3, 'K2': 0, 'i2': 3, 'i3': 1, 'i4': 0},\n",
       " {'typ': 1, 'K1': 0, 'i1': 2, 'K2': 1, 'i2': 1},\n",
       " {'typ': 1, 'K1': 1, 'i1': 3, 'K2': 3, 'i2': 2, 'i3': 4, 'i4': 3},\n",
       " {'typ': 1, 'K1': 0, 'i1': 5, 'K2': 2, 'i2': 5},\n",
       " {'typ': 2, 'K1': 1, 'i1': 3, 'K2': 1, 'i2': 1, 'K3': 1, 'i3': 0, 'K6': 2},\n",
       " {'typ': 1, 'K1': 1, 'i1': 3, 'K2': 2, 'i2': 5},\n",
       " {'typ': 2, 'K1': 0, 'i1': 4, 'K2': 0, 'i2': 4, 'K3': 0, 'i3': 2, 'K6': 3},\n",
       " {'typ': 1, 'K1': 1, 'i1': 0, 'K2': 2, 'i2': 4},\n",
       " {'typ': 2, 'K1': 0, 'i1': 2, 'K2': 0, 'i2': 2, 'K3': 3, 'i3': 3, 'K6': 2},\n",
       " {'typ': 1, 'K1': 2, 'i1': 0, 'K2': 3, 'i2': 3},\n",
       " {'typ': 1, 'K1': 2, 'i1': 3, 'K2': 3, 'i2': 1},\n",
       " {'typ': 2, 'K1': 1, 'i1': 0, 'K2': 1, 'i2': 1, 'K3': 0, 'i3': 4, 'K6': 2},\n",
       " {'typ': 1, 'K1': 0, 'i1': 4, 'K2': 3, 'i2': 5}]"
      ]
     },
     "execution_count": 10,
     "metadata": {},
     "output_type": "execute_result"
    }
   ],
   "source": [
    "puzzle1.clues"
   ]
  },
  {
   "cell_type": "code",
   "execution_count": 11,
   "metadata": {},
   "outputs": [
    {
     "data": {
      "text/plain": [
       "False"
      ]
     },
     "execution_count": 11,
     "metadata": {},
     "output_type": "execute_result"
    }
   ],
   "source": [
    "puzzle1.is_grid_completed()"
   ]
  },
  {
   "cell_type": "code",
   "execution_count": 12,
   "metadata": {},
   "outputs": [
    {
     "data": {
      "text/plain": [
       "True"
      ]
     },
     "execution_count": 12,
     "metadata": {},
     "output_type": "execute_result"
    }
   ],
   "source": [
    "puzzle1.is_grid_contradictory()"
   ]
  },
  {
   "cell_type": "code",
   "execution_count": 3,
   "metadata": {},
   "outputs": [],
   "source": [
    "puzzle1.draw_cathegories()"
   ]
  },
  {
   "cell_type": "code",
   "execution_count": 6,
   "metadata": {},
   "outputs": [
    {
     "data": {
      "text/plain": [
       "[('cathegorical',\n",
       "  ['strzała', 'włócznia', 'miecz', 'tarcza', 'nagolennik', 'naramiennik']),\n",
       " ('cathegorical', ['sosna', 'dąb', 'modrzew', 'świerk', 'wierzba', 'wiśnia']),\n",
       " ('numerical',\n",
       "  [2.0, 6.0, 10.0, 12.0, 16.0, 20.0],\n",
       "  {'x=y*2', 'x=y*2.0', 'x=y+4.0', 'x=y+6.0', 'x=y+8.0'},\n",
       "  'Kolejność'),\n",
       " ('numerical',\n",
       "  [50.0, 54.0, 58.0, 62.0, 66.0, 70.0],\n",
       "  {'x=y+12', 'x=y+4', 'x=y+8'},\n",
       "  '@ rok/lata')]"
      ]
     },
     "execution_count": 6,
     "metadata": {},
     "output_type": "execute_result"
    }
   ],
   "source": [
    "puzzle1.cathegories"
   ]
  },
  {
   "cell_type": "code",
   "execution_count": 12,
   "metadata": {},
   "outputs": [],
   "source": [
    "puzzle1.clear_grid()\n",
    "puzzle1.add_clue2()\n",
    "puzzle1.use_clue2(2)"
   ]
  },
  {
   "cell_type": "code",
   "execution_count": 6,
   "metadata": {},
   "outputs": [],
   "source": []
  },
  {
   "cell_type": "code",
   "execution_count": 14,
   "metadata": {},
   "outputs": [
    {
     "data": {
      "text/plain": [
       "[{'typ': 2, 'K1': 1, 'i1': 4, 'K2': 1, 'i2': 1, 'K3': 0, 'i3': 5, 'K6': 2},\n",
       " {'typ': 2, 'K1': 1, 'i1': 1, 'K2': 1, 'i2': 5, 'K3': 1, 'i3': 4, 'K6': 2},\n",
       " {'typ': 2, 'K1': 1, 'i1': 4, 'K2': 1, 'i2': 0, 'K3': 2, 'i3': 0, 'K6': 3},\n",
       " {'typ': 2, 'K1': 1, 'i1': 0, 'K2': 1, 'i2': 1, 'K3': 1, 'i3': 4, 'K6': 3},\n",
       " {'typ': 2, 'K1': 2, 'i1': 0, 'K2': 2, 'i2': 3, 'K3': 2, 'i3': 4, 'K6': 1},\n",
       " {'typ': 2, 'K1': 3, 'i1': 1, 'K2': 3, 'i2': 3, 'K3': 2, 'i3': 1, 'K6': 1},\n",
       " {'typ': 2, 'K1': 0, 'i1': 0, 'K2': 0, 'i2': 1, 'K3': 1, 'i3': 2, 'K6': 3}]"
      ]
     },
     "execution_count": 14,
     "metadata": {},
     "output_type": "execute_result"
    }
   ],
   "source": [
    "puzzle1.clues"
   ]
  },
  {
   "cell_type": "code",
   "execution_count": 15,
   "metadata": {},
   "outputs": [],
   "source": [
    "puzzle1.grid_concile()"
   ]
  },
  {
   "cell_type": "code",
   "execution_count": 19,
   "metadata": {},
   "outputs": [],
   "source": [
    "puzzle1.grid_insert(2,0,3,1,\"X\")"
   ]
  },
  {
   "cell_type": "code",
   "execution_count": 21,
   "metadata": {},
   "outputs": [],
   "source": [
    "puzzle1.use_clue2(2)"
   ]
  },
  {
   "cell_type": "code",
   "execution_count": 23,
   "metadata": {},
   "outputs": [
    {
     "data": {
      "text/plain": [
       "[{'typ': 2, 'K1': 1, 'i1': 4, 'K2': 1, 'i2': 1, 'K3': 0, 'i3': 5, 'K6': 2},\n",
       " {'typ': 2, 'K1': 1, 'i1': 1, 'K2': 1, 'i2': 5, 'K3': 1, 'i3': 4, 'K6': 2},\n",
       " {'typ': 2, 'K1': 1, 'i1': 4, 'K2': 1, 'i2': 0, 'K3': 2, 'i3': 0, 'K6': 3},\n",
       " {'typ': 2, 'K1': 1, 'i1': 0, 'K2': 1, 'i2': 1, 'K3': 1, 'i3': 4, 'K6': 3}]"
      ]
     },
     "execution_count": 23,
     "metadata": {},
     "output_type": "execute_result"
    }
   ],
   "source": [
    "puzzle1.clues"
   ]
  },
  {
   "cell_type": "code",
   "execution_count": 22,
   "metadata": {
    "scrolled": false
   },
   "outputs": [
    {
     "name": "stdout",
     "output_type": "stream",
     "text": [
      "------ ------ ------ \n",
      "------ ------ ------ \n",
      "------ ------ ------ \n",
      "------ ------ ------ \n",
      "------ ------ ------ \n",
      "------ ------ ------ \n",
      "\n",
      "XXX--X ------ \n",
      "------ ------ \n",
      "------ ------ \n",
      "------ ------ \n",
      "XXXX-- ------ \n",
      "------ ------ \n",
      "\n",
      "XX--XX \n",
      "------ \n",
      "------ \n",
      "------ \n",
      "------ \n",
      "------ \n",
      "\n"
     ]
    }
   ],
   "source": [
    "puzzle1.print_grid()"
   ]
  },
  {
   "cell_type": "code",
   "execution_count": 64,
   "metadata": {},
   "outputs": [
    {
     "name": "stdout",
     "output_type": "stream",
     "text": [
      "True False\n",
      "OXXXX XOXXX XXXXO \n",
      "XXXXO XXOXX XOXXX \n",
      "XOXXX OXXXX OXXXX \n",
      "XXOXX XXXOX XXOXX \n",
      "XXXOX XXXXO XXXOX \n",
      "\n",
      "XOXXX OXXXX \n",
      "XXXXO XXOXX \n",
      "XXOXX XXXOX \n",
      "XXXOX XXXXO \n",
      "OXXXX XOXXX \n",
      "\n",
      "XOXXX \n",
      "OXXXX \n",
      "XXXXO \n",
      "XXOXX \n",
      "XXXOX \n",
      "\n",
      "34\n"
     ]
    }
   ],
   "source": [
    "puzzle1 = puzzle(4,5)\n",
    "\n",
    "for i in range(40):\n",
    "    puzzle1.add_clue1()\n",
    "    puzzle1.use_clue1(i)\n",
    "    puzzle1.grid_concile()\n",
    "    \n",
    "    if puzzle1.is_grid_completed() or puzzle1.is_grid_contradictory():\n",
    "        print(puzzle1.is_grid_completed(), puzzle1.is_grid_contradictory())\n",
    "        break\n",
    "puzzle1.print_grid()\n",
    "print(len(puzzle1.clues))"
   ]
  },
  {
   "cell_type": "code",
   "execution_count": null,
   "metadata": {},
   "outputs": [],
   "source": []
  },
  {
   "cell_type": "code",
   "execution_count": null,
   "metadata": {},
   "outputs": [],
   "source": []
  },
  {
   "cell_type": "code",
   "execution_count": null,
   "metadata": {},
   "outputs": [],
   "source": []
  },
  {
   "cell_type": "code",
   "execution_count": null,
   "metadata": {},
   "outputs": [],
   "source": []
  },
  {
   "cell_type": "code",
   "execution_count": null,
   "metadata": {},
   "outputs": [],
   "source": []
  },
  {
   "cell_type": "code",
   "execution_count": null,
   "metadata": {},
   "outputs": [],
   "source": []
  }
 ],
 "metadata": {
  "kernelspec": {
   "display_name": "Python 3",
   "language": "python",
   "name": "python3"
  },
  "language_info": {
   "codemirror_mode": {
    "name": "ipython",
    "version": 3
   },
   "file_extension": ".py",
   "mimetype": "text/x-python",
   "name": "python",
   "nbconvert_exporter": "python",
   "pygments_lexer": "ipython3",
   "version": "3.7.3"
  }
 },
 "nbformat": 4,
 "nbformat_minor": 2
}
