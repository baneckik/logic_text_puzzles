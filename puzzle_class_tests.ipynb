{
 "cells": [
  {
   "cell_type": "code",
   "execution_count": 1,
   "metadata": {},
   "outputs": [],
   "source": [
    "import numpy as np\n",
    "import pandas as pd\n",
    "from puzzle_class import puzzle"
   ]
  },
  {
   "cell_type": "code",
   "execution_count": 9,
   "metadata": {},
   "outputs": [],
   "source": [
    "puzzle1 = puzzle(5,5)"
   ]
  },
  {
   "cell_type": "code",
   "execution_count": 10,
   "metadata": {},
   "outputs": [],
   "source": [
    "puzzle1.grid_insert(3, 2, 4, 3, \"X\")\n",
    "puzzle1.grid_insert(0, 0, 1, 4, \"X\")\n",
    "puzzle1.grid_insert(3, 3, 1, 2, \"O\")"
   ]
  },
  {
   "cell_type": "code",
   "execution_count": 11,
   "metadata": {
    "scrolled": false
   },
   "outputs": [
    {
     "name": "stdout",
     "output_type": "stream",
     "text": [
      "----- ----- ----- ----X \n",
      "----- ----- ----- ----- \n",
      "----- ----- ----- ----- \n",
      "----- ----- ----- ----- \n",
      "----- ----- ----- ----- \n",
      "\n",
      "----- ----- ----- \n",
      "----- ----- ----- \n",
      "----- ---O- ----- \n",
      "----- ----- ----- \n",
      "----- ----- ----- \n",
      "\n",
      "----- ----- \n",
      "----- ----- \n",
      "----- ----- \n",
      "----- ----- \n",
      "----- ----- \n",
      "\n",
      "----- \n",
      "----- \n",
      "---X- \n",
      "----- \n",
      "----- \n",
      "\n"
     ]
    }
   ],
   "source": [
    "puzzle1.print_grid()"
   ]
  }
 ],
 "metadata": {
  "kernelspec": {
   "display_name": "Python 3",
   "language": "python",
   "name": "python3"
  },
  "language_info": {
   "codemirror_mode": {
    "name": "ipython",
    "version": 3
   },
   "file_extension": ".py",
   "mimetype": "text/x-python",
   "name": "python",
   "nbconvert_exporter": "python",
   "pygments_lexer": "ipython3",
   "version": "3.7.3"
  }
 },
 "nbformat": 4,
 "nbformat_minor": 2
}
